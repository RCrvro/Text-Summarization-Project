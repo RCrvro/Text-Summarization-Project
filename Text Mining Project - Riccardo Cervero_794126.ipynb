{
  "nbformat": 4,
  "nbformat_minor": 0,
  "metadata": {
    "colab": {
      "name": "Text Mining Project (Resumed).ipynb",
      "provenance": [],
      "collapsed_sections": []
    },
    "kernelspec": {
      "name": "python3",
      "display_name": "Python 3"
    },
    "accelerator": "GPU"
  },
  "cells": [
    {
      "cell_type": "markdown",
      "metadata": {
        "id": "e43rwbZD5UOf",
        "colab_type": "text"
      },
      "source": [
        "#**Text Mining Project**\n"
      ]
    },
    {
      "cell_type": "code",
      "metadata": {
        "id": "_9ot0-2LxGo0",
        "colab_type": "code",
        "outputId": "2b5e1b1a-83a8-43cc-c75e-58ccccfaeab7",
        "colab": {
          "base_uri": "https://localhost:8080/",
          "height": 85
        }
      },
      "source": [
        "#Import packages\n",
        "import numpy as np\n",
        "import pandas as pd\n",
        "import re\n",
        "import nltk\n",
        "nltk.download('punkt')\n",
        "nltk.download('stopwords')\n",
        "from nltk.corpus import stopwords\n",
        "stop_words = stopwords.words('english')\n",
        "from nltk.tokenize import sent_tokenize, word_tokenize\n",
        "from nltk import PorterStemmer\n",
        "from sklearn.metrics.pairwise import cosine_similarity\n",
        "import networkx as nx\n",
        "import matplotlib.pyplot as plt"
      ],
      "execution_count": 0,
      "outputs": [
        {
          "output_type": "stream",
          "text": [
            "[nltk_data] Downloading package punkt to /root/nltk_data...\n",
            "[nltk_data]   Package punkt is already up-to-date!\n",
            "[nltk_data] Downloading package stopwords to /root/nltk_data...\n",
            "[nltk_data]   Package stopwords is already up-to-date!\n"
          ],
          "name": "stdout"
        }
      ]
    },
    {
      "cell_type": "markdown",
      "metadata": {
        "id": "NhYKhOiYRHKj",
        "colab_type": "text"
      },
      "source": [
        "Tha [Amazon Fine Food Reviews Dataset](https://www.kaggle.com/snap/amazon-fine-food-reviews) from Kaggle will be used."
      ]
    },
    {
      "cell_type": "code",
      "metadata": {
        "id": "6g_r0fKmOann",
        "colab_type": "code",
        "colab": {}
      },
      "source": [
        "db = pd.read_csv(\"/content/Reviews.csv\",nrows=100000)"
      ],
      "execution_count": 0,
      "outputs": []
    },
    {
      "cell_type": "code",
      "metadata": {
        "id": "42aZ26frOzlb",
        "colab_type": "code",
        "outputId": "29f2ac5d-a6ee-425b-e027-c06bb02eec0d",
        "colab": {
          "base_uri": "https://localhost:8080/",
          "height": 202
        }
      },
      "source": [
        "db.head(1)"
      ],
      "execution_count": 0,
      "outputs": [
        {
          "output_type": "execute_result",
          "data": {
            "text/html": [
              "<div>\n",
              "<style scoped>\n",
              "    .dataframe tbody tr th:only-of-type {\n",
              "        vertical-align: middle;\n",
              "    }\n",
              "\n",
              "    .dataframe tbody tr th {\n",
              "        vertical-align: top;\n",
              "    }\n",
              "\n",
              "    .dataframe thead th {\n",
              "        text-align: right;\n",
              "    }\n",
              "</style>\n",
              "<table border=\"1\" class=\"dataframe\">\n",
              "  <thead>\n",
              "    <tr style=\"text-align: right;\">\n",
              "      <th></th>\n",
              "      <th>Id</th>\n",
              "      <th>ProductId</th>\n",
              "      <th>UserId</th>\n",
              "      <th>ProfileName</th>\n",
              "      <th>HelpfulnessNumerator</th>\n",
              "      <th>HelpfulnessDenominator</th>\n",
              "      <th>Score</th>\n",
              "      <th>Time</th>\n",
              "      <th>Summary</th>\n",
              "      <th>Text</th>\n",
              "    </tr>\n",
              "  </thead>\n",
              "  <tbody>\n",
              "    <tr>\n",
              "      <th>0</th>\n",
              "      <td>1</td>\n",
              "      <td>B001E4KFG0</td>\n",
              "      <td>A3SGXH7AUHU8GW</td>\n",
              "      <td>delmartian</td>\n",
              "      <td>1</td>\n",
              "      <td>1</td>\n",
              "      <td>5</td>\n",
              "      <td>1303862400</td>\n",
              "      <td>Good Quality Dog Food</td>\n",
              "      <td>I have bought several of the Vitality canned d...</td>\n",
              "    </tr>\n",
              "  </tbody>\n",
              "</table>\n",
              "</div>"
            ],
            "text/plain": [
              "   Id  ...                                               Text\n",
              "0   1  ...  I have bought several of the Vitality canned d...\n",
              "\n",
              "[1 rows x 10 columns]"
            ]
          },
          "metadata": {
            "tags": []
          },
          "execution_count": 104
        }
      ]
    },
    {
      "cell_type": "code",
      "metadata": {
        "id": "TWLl33SiZIZy",
        "colab_type": "code",
        "outputId": "21772dff-dc1f-4c87-eda9-ac7c264205ad",
        "colab": {
          "base_uri": "https://localhost:8080/",
          "height": 142
        }
      },
      "source": [
        "#Show few texts:\n",
        "pd.DataFrame(db['Text'].head(3))"
      ],
      "execution_count": 0,
      "outputs": [
        {
          "output_type": "execute_result",
          "data": {
            "text/html": [
              "<div>\n",
              "<style scoped>\n",
              "    .dataframe tbody tr th:only-of-type {\n",
              "        vertical-align: middle;\n",
              "    }\n",
              "\n",
              "    .dataframe tbody tr th {\n",
              "        vertical-align: top;\n",
              "    }\n",
              "\n",
              "    .dataframe thead th {\n",
              "        text-align: right;\n",
              "    }\n",
              "</style>\n",
              "<table border=\"1\" class=\"dataframe\">\n",
              "  <thead>\n",
              "    <tr style=\"text-align: right;\">\n",
              "      <th></th>\n",
              "      <th>Text</th>\n",
              "    </tr>\n",
              "  </thead>\n",
              "  <tbody>\n",
              "    <tr>\n",
              "      <th>0</th>\n",
              "      <td>I have bought several of the Vitality canned d...</td>\n",
              "    </tr>\n",
              "    <tr>\n",
              "      <th>1</th>\n",
              "      <td>Product arrived labeled as Jumbo Salted Peanut...</td>\n",
              "    </tr>\n",
              "    <tr>\n",
              "      <th>2</th>\n",
              "      <td>This is a confection that has been around a fe...</td>\n",
              "    </tr>\n",
              "  </tbody>\n",
              "</table>\n",
              "</div>"
            ],
            "text/plain": [
              "                                                Text\n",
              "0  I have bought several of the Vitality canned d...\n",
              "1  Product arrived labeled as Jumbo Salted Peanut...\n",
              "2  This is a confection that has been around a fe..."
            ]
          },
          "metadata": {
            "tags": []
          },
          "execution_count": 42
        }
      ]
    },
    {
      "cell_type": "code",
      "metadata": {
        "id": "i-lPQwUCZZYO",
        "colab_type": "code",
        "outputId": "2e012b6c-c4df-4f43-eac7-d22640c56aaf",
        "colab": {
          "base_uri": "https://localhost:8080/",
          "height": 142
        }
      },
      "source": [
        "#Show few summaries:\n",
        "pd.DataFrame(db['Summary'].head(3))"
      ],
      "execution_count": 0,
      "outputs": [
        {
          "output_type": "execute_result",
          "data": {
            "text/html": [
              "<div>\n",
              "<style scoped>\n",
              "    .dataframe tbody tr th:only-of-type {\n",
              "        vertical-align: middle;\n",
              "    }\n",
              "\n",
              "    .dataframe tbody tr th {\n",
              "        vertical-align: top;\n",
              "    }\n",
              "\n",
              "    .dataframe thead th {\n",
              "        text-align: right;\n",
              "    }\n",
              "</style>\n",
              "<table border=\"1\" class=\"dataframe\">\n",
              "  <thead>\n",
              "    <tr style=\"text-align: right;\">\n",
              "      <th></th>\n",
              "      <th>Summary</th>\n",
              "    </tr>\n",
              "  </thead>\n",
              "  <tbody>\n",
              "    <tr>\n",
              "      <th>0</th>\n",
              "      <td>Good Quality Dog Food</td>\n",
              "    </tr>\n",
              "    <tr>\n",
              "      <th>1</th>\n",
              "      <td>Not as Advertised</td>\n",
              "    </tr>\n",
              "    <tr>\n",
              "      <th>2</th>\n",
              "      <td>\"Delight\" says it all</td>\n",
              "    </tr>\n",
              "  </tbody>\n",
              "</table>\n",
              "</div>"
            ],
            "text/plain": [
              "                 Summary\n",
              "0  Good Quality Dog Food\n",
              "1      Not as Advertised\n",
              "2  \"Delight\" says it all"
            ]
          },
          "metadata": {
            "tags": []
          },
          "execution_count": 43
        }
      ]
    },
    {
      "cell_type": "code",
      "metadata": {
        "id": "Rnym2LXoW_M2",
        "colab_type": "code",
        "outputId": "a5fc8eeb-4ad5-4930-b304-f2b729d82320",
        "colab": {
          "base_uri": "https://localhost:8080/",
          "height": 71
        }
      },
      "source": [
        "text_avg = np.sum([len(sent_tokenize(str(db['Text'][i]))) for i in range(len(db)-1)])/len(db)\n",
        "print(\"The average number of sentences per reviews is\",text_avg)\n",
        "summary_avg = np.sum([(len(sent_tokenize(str(db['Summary'][i])))) for i in range(len(db)-1)])/len(db)\n",
        "print(\"The average number of sentences used to summarize the reviews is\",summary_avg)"
      ],
      "execution_count": 0,
      "outputs": [
        {
          "output_type": "stream",
          "text": [
            "The average number of sentences per reviews is 5.01708\n",
            "The average number of sentences used to summarize the reviews is 1.07695\n"
          ],
          "name": "stdout"
        }
      ]
    },
    {
      "cell_type": "code",
      "metadata": {
        "id": "NwKNYRk0XYPQ",
        "colab_type": "code",
        "outputId": "6586dfe3-2355-4622-ad4c-06db4f12913a",
        "colab": {
          "base_uri": "https://localhost:8080/",
          "height": 281
        }
      },
      "source": [
        "#Plot distributions of number of sentences\n",
        "text_lens = [len(sent_tokenize(str(db['Text'][i]))) for i in range(len(db)-1)]\n",
        "summary_lens = [(len(sent_tokenize(str(db['Summary'][i])))) for i in range(len(db)-1)]\n",
        "graph_df = pd.DataFrame()\n",
        "graph_df['text'] = text_lens\n",
        "graph_df['summary'] = summary_lens\n",
        "graph_df.hist(bins = 5)\n",
        "plt.show()"
      ],
      "execution_count": 0,
      "outputs": [
        {
          "output_type": "display_data",
          "data": {
            "image/png": "[encoded data removed]",
            "text/plain": [
              "<Figure size 432x288 with 2 Axes>"
            ]
          },
          "metadata": {
            "tags": []
          }
        }
      ]
    },
    {
      "cell_type": "code",
      "metadata": {
        "id": "k506gFD3Y28B",
        "colab_type": "code",
        "outputId": "358091da-f368-45dc-d4c8-ffc06cb32934",
        "colab": {
          "base_uri": "https://localhost:8080/",
          "height": 51
        }
      },
      "source": [
        "#Check the upper bounds\n",
        "print(\"The articles have at least\",graph_df['text'].min(),\"words and at most\",graph_df['text'].max())\n",
        "print(\"The summaries have at least\",graph_df['summary'].min(),\"words and at most\",graph_df['summary'].max())"
      ],
      "execution_count": 0,
      "outputs": [
        {
          "output_type": "stream",
          "text": [
            "The articles have at least 1 words and at most 76\n",
            "The summaries have at least 1 words and at most 11\n"
          ],
          "name": "stdout"
        }
      ]
    },
    {
      "cell_type": "markdown",
      "metadata": {
        "id": "Pkxjqm7ErFfT",
        "colab_type": "text"
      },
      "source": [
        "###**1. Topic focused**"
      ]
    },
    {
      "cell_type": "markdown",
      "metadata": {
        "id": "7_VFa66Uuw__",
        "colab_type": "text"
      },
      "source": [
        "####**1.1 Latent Semantic Analysis**"
      ]
    },
    {
      "cell_type": "code",
      "metadata": {
        "id": "vs5CCq1murK_",
        "colab_type": "code",
        "colab": {}
      },
      "source": [
        "#List of contractions to transform\n",
        "contractions = {\"ain't\": \"is not\", \"aren't\": \"are not\",\"can't\": \"cannot\", \"'cause\": \"because\", \"could've\": \"could have\", \"couldn't\": \"could not\",\n",
        "                           \"didn't\": \"did not\",  \"doesn't\": \"does not\", \"don't\": \"do not\", \"hadn't\": \"had not\", \"hasn't\": \"has not\", \"haven't\": \"have not\",\n",
        "                           \"he'd\": \"he would\",\"he'll\": \"he will\", \"he's\": \"he is\", \"how'd\": \"how did\", \"how'd'y\": \"how do you\", \"how'll\": \"how will\", \"how's\": \"how is\",\n",
        "                           \"I'd\": \"I would\", \"I'd've\": \"I would have\", \"I'll\": \"I will\", \"I'll've\": \"I will have\",\"I'm\": \"I am\", \"I've\": \"I have\", \"i'd\": \"i would\",\n",
        "                           \"i'd've\": \"i would have\", \"i'll\": \"i will\",  \"i'll've\": \"i will have\",\"i'm\": \"i am\", \"i've\": \"i have\", \"isn't\": \"is not\", \"it'd\": \"it would\",\n",
        "                           \"it'd've\": \"it would have\", \"it'll\": \"it will\", \"it'll've\": \"it will have\",\"it's\": \"it is\", \"let's\": \"let us\", \"ma'am\": \"madam\",\n",
        "                           \"mayn't\": \"may not\", \"might've\": \"might have\",\"mightn't\": \"might not\",\"mightn't've\": \"might not have\", \"must've\": \"must have\",\n",
        "                           \"mustn't\": \"must not\", \"mustn't've\": \"must not have\", \"needn't\": \"need not\", \"needn't've\": \"need not have\",\"o'clock\": \"of the clock\",\n",
        "                           \"oughtn't\": \"ought not\", \"oughtn't've\": \"ought not have\", \"shan't\": \"shall not\", \"sha'n't\": \"shall not\", \"shan't've\": \"shall not have\",\n",
        "                           \"she'd\": \"she would\", \"she'd've\": \"she would have\", \"she'll\": \"she will\", \"she'll've\": \"she will have\", \"she's\": \"she is\",\n",
        "                           \"should've\": \"should have\", \"shouldn't\": \"should not\", \"shouldn't've\": \"should not have\", \"so've\": \"so have\",\"so's\": \"so as\",\n",
        "                           \"this's\": \"this is\",\"that'd\": \"that would\", \"that'd've\": \"that would have\", \"that's\": \"that is\", \"there'd\": \"there would\",\n",
        "                           \"there'd've\": \"there would have\", \"there's\": \"there is\", \"here's\": \"here is\",\"they'd\": \"they would\", \"they'd've\": \"they would have\",\n",
        "                           \"they'll\": \"they will\", \"they'll've\": \"they will have\", \"they're\": \"they are\", \"they've\": \"they have\", \"to've\": \"to have\",\n",
        "                           \"wasn't\": \"was not\", \"we'd\": \"we would\", \"we'd've\": \"we would have\", \"we'll\": \"we will\", \"we'll've\": \"we will have\", \"we're\": \"we are\",\n",
        "                           \"we've\": \"we have\", \"weren't\": \"were not\", \"what'll\": \"what will\", \"what'll've\": \"what will have\", \"what're\": \"what are\",\n",
        "                           \"what's\": \"what is\", \"what've\": \"what have\", \"when's\": \"when is\", \"when've\": \"when have\", \"where'd\": \"where did\", \"where's\": \"where is\",\n",
        "                           \"where've\": \"where have\", \"who'll\": \"who will\", \"who'll've\": \"who will have\", \"who's\": \"who is\", \"who've\": \"who have\",\n",
        "                           \"why's\": \"why is\", \"why've\": \"why have\", \"will've\": \"will have\", \"won't\": \"will not\", \"won't've\": \"will not have\",\n",
        "                           \"would've\": \"would have\", \"wouldn't\": \"would not\", \"wouldn't've\": \"would not have\", \"y'all\": \"you all\",\n",
        "                           \"y'all'd\": \"you all would\",\"y'all'd've\": \"you all would have\",\"y'all're\": \"you all are\",\"y'all've\": \"you all have\",\n",
        "                           \"you'd\": \"you would\", \"you'd've\": \"you would have\", \"you'll\": \"you will\", \"you'll've\": \"you will have\",\n",
        "                           \"you're\": \"you are\", \"you've\": \"you have\"}\n",
        "\n",
        "\n",
        "#Function to transform the contraction in the extended form\n",
        "def rem_contractions(x):\n",
        "  x = str(x).split()\n",
        "  new_text = []\n",
        "  for word in x:\n",
        "    if word in contractions:\n",
        "      new_text.append(contractions[word])\n",
        "    else:\n",
        "      new_text.append(word)\n",
        "  return ' '.join([str(elem) for elem in new_text])\n",
        "\n",
        "#Function to apply preprocessing operations\n",
        "def text_preprocessing(x,remove_stopwords=True):\n",
        "  cleaned = rem_contractions(x)\n",
        "  cleaned = pd.Series(cleaned).str.replace(\"[^a-zA-Z]\", \" \") #punctuation, special characters and numbers\n",
        "  cleaned = [s.lower() for s in cleaned] #to lowercase\n",
        "  if remove_stopwords: \n",
        "    cleaned = \" \".join([i for i in cleaned if i not in stop_words]) \n",
        "  #No stemming because it could cause a loss of information\n",
        "  return cleaned"
      ],
      "execution_count": 0,
      "outputs": []
    },
    {
      "cell_type": "code",
      "metadata": {
        "id": "amBDavJorLWj",
        "colab_type": "code",
        "colab": {}
      },
      "source": [
        "def weighting(input,weight):\n",
        "  #Preprocess the input\n",
        "  sentences_cleaned = [text_preprocessing(y) for y in (sent_tokenize(input))]\n",
        "  #Compute occurence of each word for each sentence\n",
        "  DFs = []\n",
        "  if weight == \"f\":\n",
        "    for sent in sentences_cleaned:\n",
        "      tokens = nltk.word_tokenize(sent)\n",
        "      tokens2 = pd.DataFrame(tokens)\n",
        "      tokens2.columns=['Frequency']\n",
        "      tokens2 = pd.DataFrame(tokens2.Frequency.value_counts())\n",
        "      tokens2 = tokens2.reset_index()\n",
        "      tokens2.columns = ['Word','Frequency']\n",
        "      DFs.append(tokens2)\n",
        "      df = DFs[0]\n",
        "      i=0\n",
        "      for elem in DFs:\n",
        "        df = pd.merge(df,elem,on=\"Word\",how=\"outer\")\n",
        "      df.columns = [str(i) for i in range(len(df.columns))]\n",
        "      df = df.drop('1',axis=1)\n",
        "      df = df.replace(np.nan,0)\n",
        "      df.set_index(\"0\",inplace=True)\n",
        "      df.columns = [str(i) for i in range(len(df.columns))]\n",
        "      df = df.as_matrix()\n",
        "    return df\n",
        "  elif weight == \"tf\":\n",
        "    for sent in sentences_cleaned:\n",
        "      tokens = nltk.word_tokenize(sent)\n",
        "      length = len(tokens)\n",
        "      tokens2 = pd.DataFrame(tokens)\n",
        "      tokens2.columns=['TF']\n",
        "      tokens2 = pd.DataFrame(tokens2.TF.value_counts()/length)\n",
        "      tokens2 = tokens2.reset_index()\n",
        "      tokens2.columns = ['Word','TF']\n",
        "      DFs.append(tokens2)\n",
        "      df = DFs[0]\n",
        "      i=0\n",
        "      for elem in DFs:\n",
        "        df = pd.merge(df,elem,on=\"Word\",how=\"outer\")\n",
        "      df.columns = [str(i) for i in range(len(df.columns))]\n",
        "      df = df.drop('1',axis=1)\n",
        "      df = df.replace(np.nan,0)\n",
        "      df.set_index(\"0\",inplace=True)\n",
        "      df.columns = [str(i) for i in range(len(df.columns))]\n",
        "      df = df.as_matrix()\n",
        "    return df\n",
        "  elif weight == 'tf.idf':\n",
        "    for sent in sentences_cleaned:\n",
        "      tokens = nltk.word_tokenize(sent)\n",
        "      length = len(tokens)\n",
        "      tokens2 = pd.DataFrame(tokens)\n",
        "      tokens2.columns=['TFIDF']\n",
        "      tokens2 = pd.DataFrame(tokens2.TFIDF.value_counts()/length)\n",
        "      tokens2 = tokens2.reset_index()\n",
        "      tokens2.columns = ['Word','TFIDF']\n",
        "      DFs.append(tokens2)\n",
        "      df = DFs[0]\n",
        "      i=0\n",
        "      for elem in DFs:\n",
        "        df = pd.merge(df,elem,on=\"Word\",how=\"outer\")\n",
        "      df.columns = [str(i) for i in range(len(df.columns))]\n",
        "      df = df.drop('1',axis=1)\n",
        "      df = df.replace(np.nan,0)\n",
        "      df.set_index(\"0\",inplace=True)\n",
        "      df.columns = [str(i) for i in range(len(df.columns))]\n",
        "      num = len(df.columns)\n",
        "      rows = []\n",
        "      for index in df.index:\n",
        "        den = np.count_nonzero(df.loc[index])\n",
        "        idf = num/den\n",
        "        idf = np.log(idf)\n",
        "        row = df.loc[index]*idf\n",
        "        rows.append(row)\n",
        "    return pd.DataFrame(rows).as_matrix()\n",
        "\n",
        "def SVD_weight(input,weight):\n",
        "  df = weighting(input,weight)\n",
        "  U, S, VT = np.linalg.svd(df, full_matrices=0)\n",
        "  return pd.DataFrame(VT)\n",
        "\n",
        "def ranking_sent(input,weight):\n",
        "  matrix = SVD_weight(input,weight)\n",
        "  score = {}\n",
        "  for i in matrix.columns:\n",
        "    score[i]=np.sqrt(np.sum(matrix[i]**2))\n",
        "  return score\n",
        "\n",
        "def LSA_summarize(input,num_of_sentences,weight=\"tf.idf\"):\n",
        "  ranking = ranking_sent(input,weight)\n",
        "  sentences = sent_tokenize(input)\n",
        "  if num_of_sentences > len(sentences):\n",
        "    print(\"ERROR: There are only\",len(sentences),\"sentences in the text.\")\n",
        "  else:\n",
        "    s = pd.DataFrame(pd.concat((pd.Series(sentences),pd.Series(ranking)),axis=1))\n",
        "    s.columns = ['Sentence','Score']\n",
        "    s = s.sort_values(\"Score\",ascending = False)\n",
        "    summary_sentences = [i for i in s['Sentence'][:num_of_sentences]]\n",
        "    return ' '.join([str(elem) for elem in summary_sentences])\n"
      ],
      "execution_count": 0,
      "outputs": []
    },
    {
      "cell_type": "code",
      "metadata": {
        "id": "idqAqUaqXoAD",
        "colab_type": "code",
        "colab": {}
      },
      "source": [
        "reviews = db"
      ],
      "execution_count": 0,
      "outputs": []
    },
    {
      "cell_type": "code",
      "metadata": {
        "id": "h0xHh_4iPqcR",
        "colab_type": "code",
        "outputId": "df06313c-9dc2-4b5f-9b14-63f7aabe99ab",
        "colab": {
          "base_uri": "https://localhost:8080/",
          "height": 54
        }
      },
      "source": [
        "#Example with one review\n",
        "summ = LSA_summarize(reviews['Text'][0],1)"
      ],
      "execution_count": 0,
      "outputs": [
        {
          "output_type": "stream",
          "text": [
            "/usr/local/lib/python3.6/dist-packages/ipykernel_launcher.py:74: FutureWarning: Method .as_matrix will be removed in a future version. Use .values instead.\n"
          ],
          "name": "stderr"
        }
      ]
    },
    {
      "cell_type": "code",
      "metadata": {
        "id": "XVICJ-L-PHKD",
        "colab_type": "code",
        "outputId": "6e90c67d-9fc4-4834-8a58-f009890352e0",
        "colab": {
          "base_uri": "https://localhost:8080/",
          "height": 173
        }
      },
      "source": [
        "#Example with one review\n",
        "print(\"Review:\",\"\\n\",reviews['Text'][0])\n",
        "print()\n",
        "print(\"Original summary:\",\"\\n\",reviews['Summary'][0])\n",
        "print()\n",
        "print(\"Predicted summary:\",\"\\n\",summ)"
      ],
      "execution_count": 0,
      "outputs": [
        {
          "output_type": "stream",
          "text": [
            "Review: \n",
            " I have bought several of the Vitality canned dog food products and have found them all to be of good quality. The product looks more like a stew than a processed meat and it smells better. My Labrador is finicky and she appreciates this product better than  most.\n",
            "\n",
            "Original summary: \n",
            " Good Quality Dog Food\n",
            "\n",
            "Predicted summary: \n",
            " The product looks more like a stew than a processed meat and it smells better.\n"
          ],
          "name": "stdout"
        }
      ]
    },
    {
      "cell_type": "markdown",
      "metadata": {
        "id": "81npP6-jppb6",
        "colab_type": "text"
      },
      "source": [
        "###**2. Indicator Representation**"
      ]
    },
    {
      "cell_type": "markdown",
      "metadata": {
        "id": "5F6TFxtLmXUC",
        "colab_type": "text"
      },
      "source": [
        "####**2.1 Graph based**"
      ]
    },
    {
      "cell_type": "markdown",
      "metadata": {
        "id": "0LEJskolShHq",
        "colab_type": "text"
      },
      "source": [
        "#####2.1.1 TextRank\n",
        "[TextRank](https://www.analyticsvidhya.com/blog/2018/11/introduction-text-summarization-textrank-python/) è un modello a grafo sviluppato per singolo documento, che costruisce un grafo ricreando un vertice per ogni frase e degli edge mediante una misura basata sul numero di parole in comune fra due frasi, normalizzato per la lunghezza delle frasi. TextRank usa score di similarità continui - probabilmente iterativi sulle parole in comune - come pesi per gli edge. Infine, TextRank che non considera alcuna feature addizionale. "
      ]
    },
    {
      "cell_type": "markdown",
      "metadata": {
        "id": "lCNsDY7Sv4tA",
        "colab_type": "text"
      },
      "source": [
        "In order to represent the text, word embeddings will be used to create vectors for our sentences. We could have also used the Bag-of-Words or TF-IDF approaches to create features for our sentences, but these methods ignore the order of the words (and the number of features is usually pretty large). We will be using the pre-trained Wikipedia 2014 + Gigaword 5 GloVe vectors."
      ]
    },
    {
      "cell_type": "code",
      "metadata": {
        "id": "M1wbJT71-qTp",
        "colab_type": "code",
        "outputId": "5add2d1c-e8a1-45a6-89ac-025bd32509d6",
        "colab": {
          "base_uri": "https://localhost:8080/",
          "height": 462
        }
      },
      "source": [
        "#Load GloVe for text representation\n",
        "!wget http://nlp.stanford.edu/data/glove.6B.zip\n",
        "!unzip glove*.zip"
      ],
      "execution_count": 0,
      "outputs": [
        {
          "output_type": "stream",
          "text": [
            "--2019-12-29 16:17:15--  http://nlp.stanford.edu/data/glove.6B.zip\n",
            "Resolving nlp.stanford.edu (nlp.stanford.edu)... 171.64.67.140\n",
            "Connecting to nlp.stanford.edu (nlp.stanford.edu)|171.64.67.140|:80... connected.\n",
            "HTTP request sent, awaiting response... 302 Found\n",
            "Location: https://nlp.stanford.edu/data/glove.6B.zip [following]\n",
            "--2019-12-29 16:17:15--  https://nlp.stanford.edu/data/glove.6B.zip\n",
            "Connecting to nlp.stanford.edu (nlp.stanford.edu)|171.64.67.140|:443... connected.\n",
            "HTTP request sent, awaiting response... 301 Moved Permanently\n",
            "Location: http://downloads.cs.stanford.edu/nlp/data/glove.6B.zip [following]\n",
            "--2019-12-29 16:17:15--  http://downloads.cs.stanford.edu/nlp/data/glove.6B.zip\n",
            "Resolving downloads.cs.stanford.edu (downloads.cs.stanford.edu)... 171.64.64.22\n",
            "Connecting to downloads.cs.stanford.edu (downloads.cs.stanford.edu)|171.64.64.22|:80... connected.\n",
            "HTTP request sent, awaiting response... 200 OK\n",
            "Length: 862182613 (822M) [application/zip]\n",
            "Saving to: ‘glove.6B.zip’\n",
            "\n",
            "glove.6B.zip        100%[===================>] 822.24M  1.94MB/s    in 6m 26s  \n",
            "\n",
            "2019-12-29 16:23:42 (2.13 MB/s) - ‘glove.6B.zip’ saved [862182613/862182613]\n",
            "\n",
            "Archive:  glove.6B.zip\n",
            "  inflating: glove.6B.50d.txt        \n",
            "  inflating: glove.6B.100d.txt       \n",
            "  inflating: glove.6B.200d.txt       \n",
            "  inflating: glove.6B.300d.txt       \n"
          ],
          "name": "stdout"
        }
      ]
    },
    {
      "cell_type": "code",
      "metadata": {
        "id": "AWId15QJB5e0",
        "colab_type": "code",
        "colab": {}
      },
      "source": [
        "# Extract word vectors\n",
        "word_embeddings = {}\n",
        "f = open('glove.6B.100d.txt', encoding='utf-8')\n",
        "for line in f:\n",
        "    values = line.split()\n",
        "    word = values[0]\n",
        "    coefs = np.asarray(values[1:], dtype='float32')\n",
        "    word_embeddings[word] = coefs\n",
        "f.close()"
      ],
      "execution_count": 0,
      "outputs": []
    },
    {
      "cell_type": "markdown",
      "metadata": {
        "id": "BTVL1h14wIsN",
        "colab_type": "text"
      },
      "source": [
        "The dictionary `word_embeddings` will contains 400000 terms, each one represented by a vector of dimension (100,). Then, sentences vector representation will be obtained by computing the mean of all the vectors representing each word in the given sentence, gaining a consolidated vector for the sentence.\n",
        "<br>\n",
        "Thus the TextRank algorithm will be performed through the following phases:\n",
        "1. split the text into sentences\n",
        "2. apply preprocessing operation to them\n",
        "  - transform contraction\n",
        "  - remove punctuation, special characters and numbers\n",
        "  - convert to lowercase\n",
        "  - remove stop words\n",
        "3. if the sentence exist, take the embedding of each word in the sentence, if present, otherwise returns a vector of zeros\n",
        "4. compute the mean of the vector for each word in the sentence\n",
        "5. compute the cosine similarity among all the sentences into a $nxn$ matrix\n",
        "6. convert this matrix into a graph\n",
        "7. uses `PageRank` algorithm to extract an importance score\n",
        "8. rank sentences based on their score\n",
        "9. select the best N sentences"
      ]
    },
    {
      "cell_type": "code",
      "metadata": {
        "id": "R99aCb0eThr2",
        "colab_type": "code",
        "colab": {}
      },
      "source": [
        "#Function to get the summary\n",
        "def summary(x,N,pretty=False):\n",
        "  #Split into preprocessed and not preprocessed sentences\n",
        "   sentences_cleaned = [text_preprocessing(y) for y in (sent_tokenize(x))]\n",
        "   sentences = [y for y in (sent_tokenize(x))]\n",
        "  #Text representation\n",
        "   sentence_vectors = [] \n",
        "   for i in sentences_cleaned:\n",
        "     if len(i) != 0:\n",
        "       v = sum([word_embeddings.get(w, np.zeros((100,))) for w in i.split()])/(len(i.split())+0.001)\n",
        "     else:\n",
        "       v = np.zeros((100,))\n",
        "     sentence_vectors.append(v) #IL PROBLEMA È QUI\n",
        "   #Compute similarity matrix\n",
        "   sim_mat = np.zeros([len(sentences), len(sentences)])\n",
        "   for i in range(len(sentences)):\n",
        "     for j in range(len(sentences)):\n",
        "       if i != j:\n",
        "         sim_mat[i][j] = cosine_similarity(sentence_vectors[i].reshape(1,100), sentence_vectors[j].reshape(1,100))[0,0]\n",
        "   #Convert similarity matrix into a graph\n",
        "   nx_graph = nx.from_numpy_array(sim_mat)\n",
        "   scores = nx.pagerank(nx_graph)\n",
        "   #Rank sentences\n",
        "   ranked_sentences = sorted(((scores[i],s) for i,s in enumerate(sentences)), reverse=True)\n",
        "   #Select top N sentences\n",
        "   summary=[]\n",
        "   for i in range(N):\n",
        "     summary.append(ranked_sentences[i][1])\n",
        "   if pretty:\n",
        "     return ' '.join([str(elem) for elem in summary]) #Return the readable text\n",
        "   else:\n",
        "     return summary #Return the list of summary sentences"
      ],
      "execution_count": 0,
      "outputs": []
    },
    {
      "cell_type": "code",
      "metadata": {
        "id": "-dvj4iKjWByE",
        "colab_type": "code",
        "outputId": "78850a36-4f71-4d89-b012-981e7e7b8563",
        "colab": {
          "base_uri": "https://localhost:8080/",
          "height": 173
        }
      },
      "source": [
        "#Example with one review\n",
        "print(\"Review:\",\"\\n\",reviews['Text'][2])\n",
        "print()\n",
        "print(\"Original summary:\",\"\\n\",reviews['Summary'][2])\n",
        "print()\n",
        "print(\"Predicted summary:\",\"\\n\",summary(reviews['Text'][2],1,pretty=True))"
      ],
      "execution_count": 0,
      "outputs": [
        {
          "output_type": "stream",
          "text": [
            "Review: \n",
            " This is a confection that has been around a few centuries.  It is a light, pillowy citrus gelatin with nuts - in this case Filberts. And it is cut into tiny squares and then liberally coated with powdered sugar.  And it is a tiny mouthful of heaven.  Not too chewy, and very flavorful.  I highly recommend this yummy treat.  If you are familiar with the story of C.S. Lewis' \"The Lion, The Witch, and The Wardrobe\" - this is the treat that seduces Edmund into selling out his Brother and Sisters to the Witch.\n",
            "\n",
            "Original summary: \n",
            " \"Delight\" says it all\n",
            "\n",
            "Predicted summary: \n",
            " And it is a tiny mouthful of heaven.\n"
          ],
          "name": "stdout"
        }
      ]
    },
    {
      "cell_type": "markdown",
      "metadata": {
        "id": "dlue87tZSHP1",
        "colab_type": "text"
      },
      "source": [
        "#####**2.1.2 Gensim (TextRank)**\n",
        "\n",
        "[`Gensim`](https://radimrehurek.com/gensim/summarization/summariser.html) implements TextRank summarization"
      ]
    },
    {
      "cell_type": "code",
      "metadata": {
        "id": "xc3wG7bcSo04",
        "colab_type": "code",
        "colab": {}
      },
      "source": [
        "from gensim.summarization.summarizer import summarize\n",
        "gensim_result = summarize(reviews['Text'][5])"
      ],
      "execution_count": 0,
      "outputs": []
    },
    {
      "cell_type": "code",
      "metadata": {
        "id": "5KaGQLUtS3XJ",
        "colab_type": "code",
        "outputId": "ff4662db-5f3d-430f-c806-a75483a68894",
        "colab": {
          "base_uri": "https://localhost:8080/",
          "height": 173
        }
      },
      "source": [
        "#Example with one review\n",
        "print(\"Review:\",\"\\n\",reviews['Text'][5])\n",
        "print()\n",
        "print(\"Original summary:\",\"\\n\",reviews['Summary'][5])\n",
        "print()\n",
        "print(\"Predicted summary:\",\"\\n\",gensim_result)"
      ],
      "execution_count": 0,
      "outputs": [
        {
          "output_type": "stream",
          "text": [
            "Review: \n",
            " I got a wild hair for taffy and ordered this five pound bag. The taffy was all very enjoyable with many flavors: watermelon, root beer, melon, peppermint, grape, etc. My only complaint is there was a bit too much red/black licorice-flavored pieces (just not my particular favorites). Between me, my kids, and my husband, this lasted only two weeks! I would recommend this brand of taffy -- it was a delightful treat.\n",
            "\n",
            "Original summary: \n",
            " Nice Taffy\n",
            "\n",
            "Predicted summary: \n",
            " The taffy was all very enjoyable with many flavors: watermelon, root beer, melon, peppermint, grape, etc.\n"
          ],
          "name": "stdout"
        }
      ]
    },
    {
      "cell_type": "markdown",
      "metadata": {
        "id": "dKBTj_jSiPa_",
        "colab_type": "text"
      },
      "source": [
        "#####**2.1.3 PytextRank (TextRank)**\n",
        "\n",
        "\n",
        "[PyTextRank](https://github.com/DerwenAI/pytextrank/blob/master/example.py) is a Python implementation of TextRank as a spaCy extension, used to extract the top-ranked phrases from text documents, infer links from unstructured text into structured data and run extractive summarization of text documents."
      ]
    },
    {
      "cell_type": "code",
      "metadata": {
        "id": "Hy9AC2u6k-RY",
        "colab_type": "code",
        "colab": {}
      },
      "source": [
        "!pip install pytextrank"
      ],
      "execution_count": 0,
      "outputs": []
    },
    {
      "cell_type": "code",
      "metadata": {
        "id": "LUuLhzfDik8O",
        "colab_type": "code",
        "colab": {}
      },
      "source": [
        "import logging\n",
        "import pytextrank\n",
        "import spacy\n",
        "import sys"
      ],
      "execution_count": 0,
      "outputs": []
    },
    {
      "cell_type": "code",
      "metadata": {
        "id": "Ce0mwz1qjJpq",
        "colab_type": "code",
        "colab": {}
      },
      "source": [
        "#Load a spaCy model, depending on language, scale, etc.\n",
        "nlp = spacy.load(\"en_core_web_sm\")\n",
        "\n",
        "#Add PyTextRank into the spaCy pipeline\n",
        "tr = pytextrank.TextRank(logger=None)\n",
        "nlp.add_pipe(tr.PipelineComponent, name=\"textrank\", last=True)"
      ],
      "execution_count": 0,
      "outputs": []
    },
    {
      "cell_type": "code",
      "metadata": {
        "id": "SM8O7r95jzHf",
        "colab_type": "code",
        "colab": {}
      },
      "source": [
        "#Use the algoruithm\n",
        "doc = nlp(reviews['Text'][101])\n",
        "#print(\"pipeline\", nlp.pipe_names)\n",
        "#print(\"elapsed time: {} ms\".format(tr.elapsed_time))\n"
      ],
      "execution_count": 0,
      "outputs": []
    },
    {
      "cell_type": "code",
      "metadata": {
        "id": "bmbjM7S7ktcS",
        "colab_type": "code",
        "outputId": "3eb4488a-c2c5-4f25-b1b6-9444fd9ada18",
        "colab": {
          "base_uri": "https://localhost:8080/",
          "height": 173
        }
      },
      "source": [
        "#Select the top N sentences\n",
        "N=1\n",
        "\n",
        "print(\"Review:\",\"\\n\",reviews['Text'][101])\n",
        "print()\n",
        "print(\"Original summary:\",\"\\n\",reviews['Summary'][101])\n",
        "print()\n",
        "print(\"Predicted summary:\")\n",
        "pytextrank_result = []\n",
        "for sent in doc._.textrank.summary(limit_phrases=15, limit_sentences=N):\n",
        "    pytextrank_result.append(sent)\n",
        "print(' '.join([str(elem) for elem in pytextrank_result]))"
      ],
      "execution_count": 0,
      "outputs": [
        {
          "output_type": "stream",
          "text": [
            "Review: \n",
            " Arrived slightly thawed. My parents wouldn't accept it. However, the company was very helpful and issued a full refund.\n",
            "\n",
            "Original summary: \n",
            " Great Support\n",
            "\n",
            "Predicted summary:\n",
            "However, the company was very helpful and issued a full refund.\n"
          ],
          "name": "stdout"
        }
      ]
    },
    {
      "cell_type": "code",
      "metadata": {
        "id": "kr5Z8PTvgEGa",
        "colab_type": "code",
        "colab": {}
      },
      "source": [
        "#Function for further analysis\n",
        "def PTR(x,N=1):\n",
        "  nlp = spacy.load(\"en_core_web_sm\")\n",
        "  tr = pytextrank.TextRank(logger=None)\n",
        "  nlp.add_pipe(tr.PipelineComponent, name=\"textrank\", last=True)\n",
        "  doc = nlp(x)\n",
        "  pytextrank_result = []\n",
        "  for sent in doc._.textrank.summary(limit_phrases=15, limit_sentences=N):\n",
        "    pytextrank_result.append(sent)\n",
        "  return ' '.join([str(elem) for elem in pytextrank_result])"
      ],
      "execution_count": 0,
      "outputs": []
    },
    {
      "cell_type": "markdown",
      "metadata": {
        "id": "kQDCxPHfnfkX",
        "colab_type": "text"
      },
      "source": [
        "####**2.2 Feature based**"
      ]
    },
    {
      "cell_type": "markdown",
      "metadata": {
        "id": "yJhUs_oCnlxy",
        "colab_type": "text"
      },
      "source": [
        "#####2.3.1 Luhn's Algorithm\n",
        "\n",
        "[Luhn's Algorithm](http://courses.ischool.berkeley.edu/i256/f06/papers/luhn58.pdf) evaluates the “significance” of the word that is calculated from the frequency. Precisely, it:\n",
        "1. Calculate signficant words in the text by means of a min and maximum ratio of occurence,ignoring most frequent words and least frequent ones \n",
        "2. For each sentence in the text calculate its weight based on the number of keywords squared divided by the windows size, which is the maximum distance between two significant words\n",
        "3. Sort sentences in descending order based on their weight and output the first n of them."
      ]
    },
    {
      "cell_type": "code",
      "metadata": {
        "id": "38ri3ZiMFmhN",
        "colab_type": "code",
        "colab": {}
      },
      "source": [
        "#Function taking a word list and returning the set of keywords\n",
        "def get_keywords(txt , min_ratio=0.05, max_ratio=0.5):\n",
        "    txt = text_preprocessing(txt)\n",
        "    length = len(nltk.word_tokenize(txt))\n",
        "    count = {}    \n",
        "    for word in nltk.word_tokenize(txt):\n",
        "        count[word] = txt.count(word)\n",
        "    keywords = []\n",
        "    for word , cnt in count.items():\n",
        "        percentage = count[word]*1.0 /length\n",
        "        if percentage <= max_ratio and percentage >=min_ratio:\n",
        "            keywords.append(word)\n",
        "    #print(\"Found\",100*len(keywords)/length,\"% of keywords\")\n",
        "    return keywords\n",
        "\n",
        "#Function returning the score of the sentence      \n",
        "def get_sentence_weight (sentence , keywords):\n",
        "    sen_list = nltk.word_tokenize(text_preprocessing(sentence))\n",
        "    window_start = 0; window_end = -1;\n",
        "    #Compute window start\n",
        "    for i in range(len(sen_list)):\n",
        "        if sen_list[i] in keywords:\n",
        "            window_start = i\n",
        "            break\n",
        "    #Compute window end\n",
        "    for i in range(len(sen_list) - 1 , 0 , -1) :\n",
        "        if sen_list[i] in keywords:\n",
        "            window_end = i\n",
        "            break\n",
        "    if window_start > window_end :\n",
        "        return 0\n",
        "    window_size = window_end - window_start + 1\n",
        "    #Occurence of keywords in the sentence\n",
        "    keywords_cnt = 0\n",
        "    for w in sen_list :\n",
        "        if w in keywords:\n",
        "            keywords_cnt +=1\n",
        "    #Return squared occurence of keywords normalized by window size\n",
        "    score = keywords_cnt*keywords_cnt*1.0 / window_size\n",
        "    return score\n",
        "\n",
        "def Luhn_summarize(txt,num_of_sentences = 1):\n",
        "  keywords_list = get_keywords(txt)\n",
        "  score = {}\n",
        "  for sentence in sent_tokenize(txt):\n",
        "    score[sentence] = get_sentence_weight (sentence , keywords_list)\n",
        "  #Convert the dictionary into DF\n",
        "  Sentence = [i for i in score.keys()]\n",
        "  Score = [i for i in score.values()]\n",
        "  score = {'Sentence':Sentence,'Score':Score}\n",
        "  score = pd.DataFrame(score)\n",
        "  #Sort the DF\n",
        "  ranking = score.sort_values(\"Score\",ascending = False)\n",
        "  summary_sentences = [i for i in ranking['Sentence'][:num_of_sentences]]\n",
        "  return ' '.join([str(elem) for elem in summary_sentences])"
      ],
      "execution_count": 0,
      "outputs": []
    },
    {
      "cell_type": "code",
      "metadata": {
        "id": "ZZgGEgHVDjrn",
        "colab_type": "code",
        "outputId": "2d115461-29c8-48af-c46f-fcff44106d4e",
        "colab": {
          "base_uri": "https://localhost:8080/",
          "height": 173
        }
      },
      "source": [
        "#Example with one review\n",
        "print(\"Review:\",\"\\n\",reviews['Text'][99])\n",
        "print()\n",
        "print(\"Original summary:\",\"\\n\",reviews['Summary'][99])\n",
        "print()\n",
        "print(\"Predicted summary:\",\"\\n\",Luhn_summarize(reviews['Text'][99]))"
      ],
      "execution_count": 0,
      "outputs": [
        {
          "output_type": "stream",
          "text": [
            "Review: \n",
            " I fed this to my Golden Retriever and he hated it.  He wouldn't eat it, and when he did, it gave him terrible diarrhea.  We will not be buying this again.  It's also super expensive.\n",
            "\n",
            "Original summary: \n",
            " Bad\n",
            "\n",
            "Predicted summary: \n",
            " He wouldn't eat it, and when he did, it gave him terrible diarrhea.\n"
          ],
          "name": "stdout"
        }
      ]
    },
    {
      "cell_type": "markdown",
      "metadata": {
        "id": "zgFH9jRSruHZ",
        "colab_type": "text"
      },
      "source": [
        "####**2.3 Deep Learning based**\n",
        "\n"
      ]
    },
    {
      "cell_type": "markdown",
      "metadata": {
        "id": "sIzPqgnOJYTY",
        "colab_type": "text"
      },
      "source": [
        "#####2.3.1 **Extractive summarization** with BERT Summarizer\n",
        "\n",
        "[BERT](https://arxiv.org/abs/1810.04805) , which stands for Bidirectional Encoder Representations from Transformers, is a pre-train deep bidirectional representations from unlabeled text, jointly conditioning on both left and right context in all layers. BERT model can be fine-tuned to create several state-of-art models for text mining tasks.\\\n",
        "In particular, as far as text summarization, a [Bert Extractive Summarizer](https://pypi.org/project/bert-extractive-summarizer/) has been already recently released by fine-tuning BERT architecture."
      ]
    },
    {
      "cell_type": "code",
      "metadata": {
        "id": "tyU4Y0F3JtlP",
        "colab_type": "code",
        "colab": {}
      },
      "source": [
        "!pip install spacy==2.1.3\n",
        "!pip install transformers==2.2.0\n",
        "!pip install bert-extractive-summarizer"
      ],
      "execution_count": 0,
      "outputs": []
    },
    {
      "cell_type": "code",
      "metadata": {
        "id": "UmMismPELXEK",
        "colab_type": "code",
        "colab": {}
      },
      "source": [
        "#Import Bert summarizer \n",
        "from summarizer import Summarizer"
      ],
      "execution_count": 0,
      "outputs": []
    },
    {
      "cell_type": "code",
      "metadata": {
        "id": "XhRSU-wFLsIB",
        "colab_type": "code",
        "colab": {}
      },
      "source": [
        "BERT = Summarizer()"
      ],
      "execution_count": 0,
      "outputs": []
    },
    {
      "cell_type": "code",
      "metadata": {
        "id": "AvAKY-94OSHP",
        "colab_type": "code",
        "colab": {}
      },
      "source": [
        "def BERT_summarize(txt):\n",
        "  result = BERT(txt)\n",
        "  summary = ''.join(result)\n",
        "  s = sent_tokenize(summary)\n",
        "  return s[0]"
      ],
      "execution_count": 0,
      "outputs": []
    },
    {
      "cell_type": "code",
      "metadata": {
        "id": "j_eIGmFvNqbl",
        "colab_type": "code",
        "outputId": "eb06ff06-595b-42eb-99ed-256ec2aac9fc",
        "colab": {
          "base_uri": "https://localhost:8080/",
          "height": 173
        }
      },
      "source": [
        "#Example with one review\n",
        "print(\"Review:\",\"\\n\",reviews['Text'][10003])\n",
        "print()\n",
        "print(\"Original summary:\",\"\\n\",reviews['Summary'][10003])\n",
        "print()\n",
        "print(\"Predicted summary:\",\"\\n\",BERT_summarize(reviews['Text'][10003]))"
      ],
      "execution_count": 0,
      "outputs": [
        {
          "output_type": "stream",
          "text": [
            "Review: \n",
            " My child was exclusively breastfed for 4 1/2 months and I gradually introduced Similac Organic formula to supplement (my breastmilk started to dry up).  She found this was so much easier to eat she gave up on me by 5 1/2 months.  By the time I completely stopped nursing she was so constipated from the formula that I switched.  She winced and cried and worked so long to just produced a hard ball the size of ping pong ball.  It was horrible!  I realized I was the one helping her poo with nursing and then she lost all ability when she went full-formula.  I say switch....\n",
            "\n",
            "Original summary: \n",
            " Horribly Constipating\n",
            "\n",
            "Predicted summary: \n",
            " My child was exclusively breastfed for 4 1/2 months and I gradually introduced Similac Organic formula to supplement (my breastmilk started to dry up).\n"
          ],
          "name": "stdout"
        }
      ]
    },
    {
      "cell_type": "markdown",
      "metadata": {
        "id": "56GUIIvFIvEJ",
        "colab_type": "text"
      },
      "source": [
        "#####2.3.2 **Abstractive summarization** with Sequence2Sequence LSTM model with Attention "
      ]
    },
    {
      "cell_type": "code",
      "metadata": {
        "id": "z0mhr6OTAWWw",
        "colab_type": "code",
        "colab": {}
      },
      "source": [
        "from keras import backend as K\n",
        "import gensim\n",
        "from numpy import *\n",
        "import numpy as np\n",
        "import pandas as pd \n",
        "import re\n",
        "from bs4 import BeautifulSoup\n",
        "from keras.preprocessing.text import Tokenizer \n",
        "from keras.preprocessing.sequence import pad_sequences\n",
        "from nltk.corpus import stopwords\n",
        "from tensorflow.keras.layers import Input, LSTM, Embedding, Dense, Concatenate, TimeDistributed\n",
        "from tensorflow.keras.models import Model\n",
        "from tensorflow.keras.callbacks import EarlyStopping\n",
        "from tensorflow.keras.utils import plot_model\n",
        "import warnings\n",
        "from sklearn.model_selection import train_test_split"
      ],
      "execution_count": 0,
      "outputs": []
    },
    {
      "cell_type": "code",
      "metadata": {
        "id": "h4Mhu8Zs6PEW",
        "colab_type": "code",
        "colab": {}
      },
      "source": [
        "stop_words = set(stopwords.words('english'))\n",
        "\n",
        "#Function to preprocess the training e test feature set\n",
        "def text_cleaner(text):\n",
        "    newString = text.lower()\n",
        "    newString = BeautifulSoup(newString, \"lxml\").text\n",
        "    newString = re.sub(r'\\([^)]*\\)', '', newString)\n",
        "    newString = re.sub('\"','', newString)\n",
        "    newString = ' '.join([contraction_mapping[t] if t in contraction_mapping else t for t in newString.split(\" \")])    \n",
        "    newString = re.sub(r\"'s\\b\",\"\",newString)\n",
        "    newString = re.sub(\"[^a-zA-Z]\", \" \", newString) \n",
        "    tokens = [w for w in newString.split() if not w in stop_words]\n",
        "    long_words=[]\n",
        "    for i in tokens:\n",
        "        if len(i)>=3:                  \n",
        "            long_words.append(i)   \n",
        "    return (\" \".join(long_words)).strip()\n",
        "\n",
        "#Function to preprocess the training and test target text\n",
        "def summary_cleaner(text):\n",
        "    newString = re.sub('\"','', text)\n",
        "    newString = ' '.join([contraction_mapping[t] if t in contraction_mapping else t for t in newString.split(\" \")])    \n",
        "    newString = re.sub(r\"'s\\b\",\"\",newString)\n",
        "    newString = re.sub(\"[^a-zA-Z]\", \" \", newString)\n",
        "    newString = newString.lower()\n",
        "    tokens=newString.split()\n",
        "    newString=''\n",
        "    for i in tokens:\n",
        "        if len(i)>1:                                 \n",
        "            newString=newString+i+' '  \n",
        "    return newString\n"
      ],
      "execution_count": 0,
      "outputs": []
    },
    {
      "cell_type": "code",
      "metadata": {
        "id": "MqyLtgS5Hg8q",
        "colab_type": "code",
        "colab": {}
      },
      "source": [
        "#Reduce dataset dimensions\n",
        "db = db[['Text','Summary']]\n",
        "db.columns = ['text','summary']\n",
        "contraction_mapping = contractions"
      ],
      "execution_count": 0,
      "outputs": []
    },
    {
      "cell_type": "code",
      "metadata": {
        "id": "FUJ4f9iKixuD",
        "colab_type": "code",
        "outputId": "b8819d20-955e-408e-f38e-3e63c12556ab",
        "colab": {
          "base_uri": "https://localhost:8080/",
          "height": 68
        }
      },
      "source": [
        "#Apply preprocessing operations to the texts\n",
        "cleaned_text = []\n",
        "for t in db['text']:\n",
        "    cleaned_text.append(text_cleaner(t))\n",
        "db['text'] = cleaned_text\n",
        "print(\"Text preprocessed.\")\n",
        "\n",
        "#Apply preprocessing operations to the summaries\n",
        "cleaned_summary = []\n",
        "for t in db['summary']:\n",
        "    cleaned_summary.append(summary_cleaner(str(t)))\n",
        "db['summary'] = cleaned_summary\n",
        "db['summary'].replace('', np.nan, inplace=True)\n",
        "print(\"Summary preprocessed.\")\n",
        "\n",
        "db.dropna(axis=0,inplace=True)\n",
        "print(\"NA removed.\")"
      ],
      "execution_count": 0,
      "outputs": [
        {
          "output_type": "stream",
          "text": [
            "Text preprocessed.\n",
            "Summary preprocessed.\n",
            "NA removed.\n"
          ],
          "name": "stdout"
        }
      ]
    },
    {
      "cell_type": "code",
      "metadata": {
        "id": "0e2iGtVH13Jb",
        "colab_type": "code",
        "colab": {}
      },
      "source": [
        "#Add \"START-END\" and \"sostok-eostok\"\n",
        "db['summary'] = db['summary'].apply(lambda x : '_START_ '+ x + ' _END_')\n",
        "db['summary'] = db['summary'].apply(lambda x : 'sostok '+ x + ' eostok')"
      ],
      "execution_count": 0,
      "outputs": []
    },
    {
      "cell_type": "code",
      "metadata": {
        "id": "NQEchs70pIfE",
        "colab_type": "code",
        "outputId": "2be5e426-d619-4d8a-b76e-50b40ec0acf7",
        "colab": {
          "base_uri": "https://localhost:8080/",
          "height": 97
        }
      },
      "source": [
        "db.head(1)"
      ],
      "execution_count": 0,
      "outputs": [
        {
          "output_type": "execute_result",
          "data": {
            "text/html": [
              "<div>\n",
              "<style scoped>\n",
              "    .dataframe tbody tr th:only-of-type {\n",
              "        vertical-align: middle;\n",
              "    }\n",
              "\n",
              "    .dataframe tbody tr th {\n",
              "        vertical-align: top;\n",
              "    }\n",
              "\n",
              "    .dataframe thead th {\n",
              "        text-align: right;\n",
              "    }\n",
              "</style>\n",
              "<table border=\"1\" class=\"dataframe\">\n",
              "  <thead>\n",
              "    <tr style=\"text-align: right;\">\n",
              "      <th></th>\n",
              "      <th>text</th>\n",
              "      <th>summary</th>\n",
              "    </tr>\n",
              "  </thead>\n",
              "  <tbody>\n",
              "    <tr>\n",
              "      <th>0</th>\n",
              "      <td>bought several vitality canned dog food produc...</td>\n",
              "      <td>sostok _START_ good quality dog food  _END_ eo...</td>\n",
              "    </tr>\n",
              "  </tbody>\n",
              "</table>\n",
              "</div>"
            ],
            "text/plain": [
              "                                                text                                            summary\n",
              "0  bought several vitality canned dog food produc...  sostok _START_ good quality dog food  _END_ eo..."
            ]
          },
          "metadata": {
            "tags": []
          },
          "execution_count": 17
        }
      ]
    },
    {
      "cell_type": "markdown",
      "metadata": {
        "id": "YQERWFm0ujKh",
        "colab_type": "text"
      },
      "source": [
        "Then, we divide the corpus into training and validation set:"
      ]
    },
    {
      "cell_type": "code",
      "metadata": {
        "id": "9IINte9yvWHD",
        "colab_type": "code",
        "colab": {}
      },
      "source": [
        "x_tr,x_val,y_tr,y_val=train_test_split(np.array(db['text']),np.array(db['summary']),test_size=0.01,random_state=0,shuffle=True)"
      ],
      "execution_count": 0,
      "outputs": []
    },
    {
      "cell_type": "markdown",
      "metadata": {
        "id": "YlACXa2-wS5n",
        "colab_type": "text"
      },
      "source": [
        "It is now necessary to perform a rare words analysis. In order to do so, training set articles will be tokenized:"
      ]
    },
    {
      "cell_type": "code",
      "metadata": {
        "id": "DxRZukEAwHlk",
        "colab_type": "code",
        "colab": {}
      },
      "source": [
        "#Use tokenizer\n",
        "x_tokenizer = Tokenizer() \n",
        "x_tokenizer.fit_on_texts(list(x_tr))"
      ],
      "execution_count": 0,
      "outputs": []
    },
    {
      "cell_type": "code",
      "metadata": {
        "id": "DenzJ3o5xEDS",
        "colab_type": "code",
        "outputId": "3da70a06-f096-40db-f888-4a43fb01e2e9",
        "colab": {
          "base_uri": "https://localhost:8080/",
          "height": 51
        }
      },
      "source": [
        "thresh=4\n",
        "cnt=0\n",
        "tot_cnt=0\n",
        "freq=0\n",
        "tot_freq=0\n",
        "\n",
        "for key,value in x_tokenizer.word_counts.items():\n",
        "    tot_cnt=tot_cnt+1\n",
        "    tot_freq=tot_freq+value\n",
        "    if(value<thresh):\n",
        "        cnt=cnt+1\n",
        "        freq=freq+value\n",
        "    \n",
        "print(\"% of rare words in vocabulary:\",(cnt/tot_cnt)*100)\n",
        "print(\"Total Coverage of rare words:\",(freq/tot_freq)*100)"
      ],
      "execution_count": 0,
      "outputs": [
        {
          "output_type": "stream",
          "text": [
            "% of rare words in vocabulary: 62.50530707178853\n",
            "Total Coverage of rare words: 1.2645901069194654\n"
          ],
          "name": "stdout"
        }
      ]
    },
    {
      "cell_type": "code",
      "metadata": {
        "id": "zBvl6zoUyijI",
        "colab_type": "code",
        "outputId": "1acc5390-d882-48e0-e589-293122522d1b",
        "colab": {
          "base_uri": "https://localhost:8080/",
          "height": 34
        }
      },
      "source": [
        "#set maximum length\n",
        "max_text_len=200 #Changeable\n",
        "max_summary_len= 20\n",
        "\n",
        "#prepare a tokenizer for reviews on training data\n",
        "x_tokenizer = Tokenizer(num_words=tot_cnt-cnt) \n",
        "x_tokenizer.fit_on_texts(list(x_tr))\n",
        "\n",
        "#convert text sequences into integer sequences (i.e one-hot encodeing all the words)\n",
        "x_tr_seq    =   x_tokenizer.texts_to_sequences(x_tr) \n",
        "x_val_seq   =   x_tokenizer.texts_to_sequences(x_val)\n",
        "\n",
        "#padding zero upto maximum length\n",
        "x_tr    =   pad_sequences(x_tr_seq,  maxlen=max_text_len, padding='post')\n",
        "x_val   =   pad_sequences(x_val_seq, maxlen=max_text_len, padding='post')\n",
        "\n",
        "#size of vocabulary ( +1 for padding token)\n",
        "x_voc   =  x_tokenizer.num_words + 1\n",
        "\n",
        "print(\"Size of vocabulary in X = {}\".format(x_voc))"
      ],
      "execution_count": 0,
      "outputs": [
        {
          "output_type": "stream",
          "text": [
            "Size of vocabulary in X = 20313\n"
          ],
          "name": "stdout"
        }
      ]
    },
    {
      "cell_type": "code",
      "metadata": {
        "id": "VsJzhP5vzCja",
        "colab_type": "code",
        "colab": {}
      },
      "source": [
        "#prepare a tokenizer for reviews on training data\n",
        "y_tokenizer = Tokenizer()   \n",
        "y_tokenizer.fit_on_texts(list(y_tr))"
      ],
      "execution_count": 0,
      "outputs": []
    },
    {
      "cell_type": "code",
      "metadata": {
        "id": "Y3WejuCgzNV9",
        "colab_type": "code",
        "outputId": "795bca4b-553d-42c6-9aa0-dbf858fb8d68",
        "colab": {
          "base_uri": "https://localhost:8080/",
          "height": 51
        }
      },
      "source": [
        "thresh=6\n",
        "\n",
        "cnt=0\n",
        "tot_cnt=0\n",
        "freq=0\n",
        "tot_freq=0\n",
        "\n",
        "for key,value in y_tokenizer.word_counts.items():\n",
        "    tot_cnt=tot_cnt+1\n",
        "    tot_freq=tot_freq+value\n",
        "    if(value<thresh):\n",
        "        cnt=cnt+1\n",
        "        freq=freq+value\n",
        "    \n",
        "print(\"% of rare words in vocabulary:\",(cnt/tot_cnt)*100)\n",
        "print(\"Total Coverage of rare words:\",(freq/tot_freq)*100)"
      ],
      "execution_count": 0,
      "outputs": [
        {
          "output_type": "stream",
          "text": [
            "% of rare words in vocabulary: 73.61888701517707\n",
            "Total Coverage of rare words: 2.444467713875155\n"
          ],
          "name": "stdout"
        }
      ]
    },
    {
      "cell_type": "code",
      "metadata": {
        "id": "JbmYomGOzSqh",
        "colab_type": "code",
        "outputId": "8762908e-8ff9-4d3f-ef84-baebd9ca3c75",
        "colab": {
          "base_uri": "https://localhost:8080/",
          "height": 34
        }
      },
      "source": [
        "#prepare a tokenizer for reviews on training data\n",
        "y_tokenizer = Tokenizer(num_words=tot_cnt-cnt) \n",
        "y_tokenizer.fit_on_texts(list(y_tr))\n",
        "\n",
        "#convert text sequences into integer sequences (i.e one hot encode the text in Y)\n",
        "y_tr_seq    =   y_tokenizer.texts_to_sequences(y_tr) \n",
        "y_val_seq   =   y_tokenizer.texts_to_sequences(y_val) \n",
        "\n",
        "#padding zero upto maximum length\n",
        "y_tr    =   pad_sequences(y_tr_seq, maxlen=max_summary_len, padding='post')\n",
        "y_val   =   pad_sequences(y_val_seq, maxlen=max_summary_len, padding='post')\n",
        "\n",
        "#size of vocabulary\n",
        "y_voc  =   y_tokenizer.num_words +1\n",
        "print(\"Size of vocabulary in Y = {}\".format(y_voc))"
      ],
      "execution_count": 0,
      "outputs": [
        {
          "output_type": "stream",
          "text": [
            "Size of vocabulary in Y = 3912\n"
          ],
          "name": "stdout"
        }
      ]
    },
    {
      "cell_type": "code",
      "metadata": {
        "id": "_H6L6-RUzXtv",
        "colab_type": "code",
        "colab": {}
      },
      "source": [
        "#Remove summaris with only START and END\n",
        "\n",
        "ind=[]\n",
        "for i in range(len(y_tr)):\n",
        "    cnt=0\n",
        "    for j in y_tr[i]:\n",
        "        if j!=0:\n",
        "            cnt=cnt+1\n",
        "    if(cnt==2):\n",
        "        ind.append(i)\n",
        "\n",
        "y_tr=np.delete(y_tr,ind, axis=0)\n",
        "x_tr=np.delete(x_tr,ind, axis=0)\n",
        "\n",
        "ind=[]\n",
        "for i in range(len(y_val)):\n",
        "    cnt=0\n",
        "    for j in y_val[i]:\n",
        "        if j!=0:\n",
        "            cnt=cnt+1\n",
        "    if(cnt==2):\n",
        "        ind.append(i)\n",
        "\n",
        "y_val=np.delete(y_val,ind, axis=0)\n",
        "x_val=np.delete(x_val,ind, axis=0)"
      ],
      "execution_count": 0,
      "outputs": []
    },
    {
      "cell_type": "markdown",
      "metadata": {
        "id": "vrHB6-2bu5YP",
        "colab_type": "text"
      },
      "source": [
        "it is finally possible to write the **Sequence-to-sequence Model**."
      ]
    },
    {
      "cell_type": "code",
      "metadata": {
        "id": "ljXgsTlR-7tt",
        "colab_type": "code",
        "colab": {}
      },
      "source": [
        "#Create Attention Block\n",
        "\n",
        "import tensorflow as tf\n",
        "import os\n",
        "from tensorflow.python.keras.layers import Layer\n",
        "from tensorflow.python.keras import backend as K\n",
        "\n",
        "\n",
        "class AttentionLayer(Layer):\n",
        "    \"\"\"\n",
        "    This class implements Bahdanau attention (https://arxiv.org/pdf/1409.0473.pdf).\n",
        "    There are three sets of weights introduced W_a, U_a, and V_a\n",
        "     \"\"\"\n",
        "\n",
        "    def __init__(self, **kwargs):\n",
        "        super(AttentionLayer, self).__init__(**kwargs)\n",
        "\n",
        "    def build(self, input_shape):\n",
        "        assert isinstance(input_shape, list)\n",
        "        # Create a trainable weight variable for this layer.\n",
        "\n",
        "        self.W_a = self.add_weight(name='W_a',\n",
        "                                   shape=tf.TensorShape((input_shape[0][2], input_shape[0][2])),\n",
        "                                   initializer='uniform',\n",
        "                                   trainable=True)\n",
        "        self.U_a = self.add_weight(name='U_a',\n",
        "                                   shape=tf.TensorShape((input_shape[1][2], input_shape[0][2])),\n",
        "                                   initializer='uniform',\n",
        "                                   trainable=True)\n",
        "        self.V_a = self.add_weight(name='V_a',\n",
        "                                   shape=tf.TensorShape((input_shape[0][2], 1)),\n",
        "                                   initializer='uniform',\n",
        "                                   trainable=True)\n",
        "\n",
        "        super(AttentionLayer, self).build(input_shape)  # Be sure to call this at the end\n",
        "\n",
        "    def call(self, inputs, verbose=False):\n",
        "        \"\"\"\n",
        "        inputs: [encoder_output_sequence, decoder_output_sequence]\n",
        "        \"\"\"\n",
        "        assert type(inputs) == list\n",
        "        encoder_out_seq, decoder_out_seq = inputs\n",
        "        if verbose:\n",
        "            print('encoder_out_seq>', encoder_out_seq.shape)\n",
        "            print('decoder_out_seq>', decoder_out_seq.shape)\n",
        "\n",
        "        def energy_step(inputs, states):\n",
        "            \"\"\" Step function for computing energy for a single decoder state \"\"\"\n",
        "\n",
        "            assert_msg = \"States must be a list. However states {} is of type {}\".format(states, type(states))\n",
        "            assert isinstance(states, list) or isinstance(states, tuple), assert_msg\n",
        "\n",
        "            \"\"\" Some parameters required for shaping tensors\"\"\"\n",
        "            en_seq_len, en_hidden = encoder_out_seq.shape[1], encoder_out_seq.shape[2]\n",
        "            de_hidden = inputs.shape[-1]\n",
        "\n",
        "            \"\"\" Computing S.Wa where S=[s0, s1, ..., si]\"\"\"\n",
        "            # <= batch_size*en_seq_len, latent_dim\n",
        "            reshaped_enc_outputs = K.reshape(encoder_out_seq, (-1, en_hidden))\n",
        "            # <= batch_size*en_seq_len, latent_dim\n",
        "            W_a_dot_s = K.reshape(K.dot(reshaped_enc_outputs, self.W_a), (-1, en_seq_len, en_hidden))\n",
        "            if verbose:\n",
        "                print('wa.s>',W_a_dot_s.shape)\n",
        "\n",
        "            \"\"\" Computing hj.Ua \"\"\"\n",
        "            U_a_dot_h = K.expand_dims(K.dot(inputs, self.U_a), 1)  # <= batch_size, 1, latent_dim\n",
        "            if verbose:\n",
        "                print('Ua.h>',U_a_dot_h.shape)\n",
        "\n",
        "            \"\"\" tanh(S.Wa + hj.Ua) \"\"\"\n",
        "            # <= batch_size*en_seq_len, latent_dim\n",
        "            reshaped_Ws_plus_Uh = K.tanh(K.reshape(W_a_dot_s + U_a_dot_h, (-1, en_hidden)))\n",
        "            if verbose:\n",
        "                print('Ws+Uh>', reshaped_Ws_plus_Uh.shape)\n",
        "\n",
        "            \"\"\" softmax(va.tanh(S.Wa + hj.Ua)) \"\"\"\n",
        "            # <= batch_size, en_seq_len\n",
        "            e_i = K.reshape(K.dot(reshaped_Ws_plus_Uh, self.V_a), (-1, en_seq_len))\n",
        "            # <= batch_size, en_seq_len\n",
        "            e_i = K.softmax(e_i)\n",
        "\n",
        "            if verbose:\n",
        "                print('ei>', e_i.shape)\n",
        "\n",
        "            return e_i, [e_i]\n",
        "\n",
        "        def context_step(inputs, states):\n",
        "            \"\"\" Step function for computing ci using ei \"\"\"\n",
        "            # <= batch_size, hidden_size\n",
        "            c_i = K.sum(encoder_out_seq * K.expand_dims(inputs, -1), axis=1)\n",
        "            if verbose:\n",
        "                print('ci>', c_i.shape)\n",
        "            return c_i, [c_i]\n",
        "\n",
        "        def create_inital_state(inputs, hidden_size):\n",
        "            # We are not using initial states, but need to pass something to K.rnn funciton\n",
        "            fake_state = K.zeros_like(inputs)  # <= (batch_size, enc_seq_len, latent_dim\n",
        "            fake_state = K.sum(fake_state, axis=[1, 2])  # <= (batch_size)\n",
        "            fake_state = K.expand_dims(fake_state)  # <= (batch_size, 1)\n",
        "            fake_state = K.tile(fake_state, [1, hidden_size])  # <= (batch_size, latent_dim\n",
        "            return fake_state\n",
        "\n",
        "        fake_state_c = create_inital_state(encoder_out_seq, encoder_out_seq.shape[-1])\n",
        "        fake_state_e = create_inital_state(encoder_out_seq, encoder_out_seq.shape[1])  # <= (batch_size, enc_seq_len, latent_dim\n",
        "\n",
        "        \"\"\" Computing energy outputs \"\"\"\n",
        "        # e_outputs => (batch_size, de_seq_len, en_seq_len)\n",
        "        last_out, e_outputs, _ = K.rnn(\n",
        "            energy_step, decoder_out_seq, [fake_state_e],\n",
        "        )\n",
        "\n",
        "        \"\"\" Computing context vectors \"\"\"\n",
        "        last_out, c_outputs, _ = K.rnn(\n",
        "            context_step, e_outputs, [fake_state_c],\n",
        "        )\n",
        "\n",
        "        return c_outputs, e_outputs\n",
        "\n",
        "    def compute_output_shape(self, input_shape):\n",
        "        \"\"\" Outputs produced by the layer \"\"\"\n",
        "        return [\n",
        "            tf.TensorShape((input_shape[1][0], input_shape[1][1], input_shape[1][2])),\n",
        "            tf.TensorShape((input_shape[1][0], input_shape[1][1], input_shape[0][1]))\n",
        "        ]"
      ],
      "execution_count": 0,
      "outputs": []
    },
    {
      "cell_type": "code",
      "metadata": {
        "id": "dQq31Aq4zoiY",
        "colab_type": "code",
        "outputId": "117f77ef-7cba-4c83-cb35-2970f7fa5182",
        "colab": {
          "base_uri": "https://localhost:8080/",
          "height": 717
        }
      },
      "source": [
        "pd.set_option(\"display.max_colwidth\", 200)\n",
        "warnings.filterwarnings(\"ignore\") \n",
        "K.clear_session()\n",
        "\n",
        "latent_dim = 300\n",
        "embedding_dim=100\n",
        "\n",
        "# Encoder\n",
        "encoder_inputs = Input(shape=(max_text_len,))\n",
        "\n",
        "#embedding layer\n",
        "enc_emb =  Embedding(x_voc, embedding_dim,trainable=True)(encoder_inputs)\n",
        "\n",
        "#encoder lstm 1\n",
        "encoder_lstm1 = LSTM(latent_dim,return_sequences=True,return_state=True,dropout=0.4,recurrent_dropout=0.4)\n",
        "encoder_output1, state_h1, state_c1 = encoder_lstm1(enc_emb)\n",
        "\n",
        "#encoder lstm 2\n",
        "encoder_lstm2 = LSTM(latent_dim,return_sequences=True,return_state=True,dropout=0.4,recurrent_dropout=0.4)\n",
        "encoder_output2, state_h2, state_c2 = encoder_lstm2(encoder_output1)\n",
        "\n",
        "#encoder lstm 3\n",
        "encoder_lstm3=LSTM(latent_dim, return_state=True, return_sequences=True,dropout=0.4,recurrent_dropout=0.4)\n",
        "encoder_outputs, state_h, state_c= encoder_lstm3(encoder_output2)\n",
        "\n",
        "# Set up the decoder, using `encoder_states` as initial state.\n",
        "decoder_inputs = Input(shape=(None,))\n",
        "\n",
        "#embedding layer\n",
        "dec_emb_layer = Embedding(y_voc, embedding_dim,trainable=True)\n",
        "dec_emb = dec_emb_layer(decoder_inputs)\n",
        "\n",
        "decoder_lstm = LSTM(latent_dim, return_sequences=True, return_state=True,dropout=0.4,recurrent_dropout=0.2)\n",
        "decoder_outputs,decoder_fwd_state, decoder_back_state = decoder_lstm(dec_emb,initial_state=[state_h, state_c])\n",
        "\n",
        "# Attention layer\n",
        "attn_layer = AttentionLayer(name='attention_layer')\n",
        "attn_out, attn_states = attn_layer([encoder_outputs, decoder_outputs])\n",
        "\n",
        "# Concat attention input and decoder LSTM output\n",
        "decoder_concat_input = Concatenate(axis=-1, name='concat_layer')([decoder_outputs, attn_out])\n",
        "\n",
        "#dense layer\n",
        "decoder_dense =  TimeDistributed(Dense(y_voc, activation='softmax'))\n",
        "decoder_outputs = decoder_dense(decoder_concat_input)\n",
        "\n",
        "# Define the model \n",
        "model = Model([encoder_inputs, decoder_inputs], decoder_outputs)\n",
        "\n",
        "model.summary() "
      ],
      "execution_count": 0,
      "outputs": [
        {
          "output_type": "stream",
          "text": [
            "WARNING:tensorflow:From /usr/local/lib/python3.6/dist-packages/tensorflow_core/python/keras/initializers.py:119: calling RandomUniform.__init__ (from tensorflow.python.ops.init_ops) with dtype is deprecated and will be removed in a future version.\n",
            "Instructions for updating:\n",
            "Call initializer instance with the dtype argument instead of passing it to the constructor\n",
            "WARNING:tensorflow:From /usr/local/lib/python3.6/dist-packages/tensorflow_core/python/ops/resource_variable_ops.py:1630: calling BaseResourceVariable.__init__ (from tensorflow.python.ops.resource_variable_ops) with constraint is deprecated and will be removed in a future version.\n",
            "Instructions for updating:\n",
            "If using Keras pass *_constraint arguments to layers.\n",
            "Model: \"model\"\n",
            "__________________________________________________________________________________________________\n",
            "Layer (type)                    Output Shape         Param #     Connected to                     \n",
            "==================================================================================================\n",
            "input_1 (InputLayer)            [(None, 200)]        0                                            \n",
            "__________________________________________________________________________________________________\n",
            "embedding (Embedding)           (None, 200, 100)     2031300     input_1[0][0]                    \n",
            "__________________________________________________________________________________________________\n",
            "lstm (LSTM)                     [(None, 200, 300), ( 481200      embedding[0][0]                  \n",
            "__________________________________________________________________________________________________\n",
            "input_2 (InputLayer)            [(None, None)]       0                                            \n",
            "__________________________________________________________________________________________________\n",
            "lstm_1 (LSTM)                   [(None, 200, 300), ( 721200      lstm[0][0]                       \n",
            "__________________________________________________________________________________________________\n",
            "embedding_1 (Embedding)         (None, None, 100)    391200      input_2[0][0]                    \n",
            "__________________________________________________________________________________________________\n",
            "lstm_2 (LSTM)                   [(None, 200, 300), ( 721200      lstm_1[0][0]                     \n",
            "__________________________________________________________________________________________________\n",
            "lstm_3 (LSTM)                   [(None, None, 300),  481200      embedding_1[0][0]                \n",
            "                                                                 lstm_2[0][1]                     \n",
            "                                                                 lstm_2[0][2]                     \n",
            "__________________________________________________________________________________________________\n",
            "attention_layer (AttentionLayer ((None, None, 300),  180300      lstm_2[0][0]                     \n",
            "                                                                 lstm_3[0][0]                     \n",
            "__________________________________________________________________________________________________\n",
            "concat_layer (Concatenate)      (None, None, 600)    0           lstm_3[0][0]                     \n",
            "                                                                 attention_layer[0][0]            \n",
            "__________________________________________________________________________________________________\n",
            "time_distributed (TimeDistribut (None, None, 3912)   2351112     concat_layer[0][0]               \n",
            "==================================================================================================\n",
            "Total params: 7,358,712\n",
            "Trainable params: 7,358,712\n",
            "Non-trainable params: 0\n",
            "__________________________________________________________________________________________________\n"
          ],
          "name": "stdout"
        }
      ]
    },
    {
      "cell_type": "code",
      "metadata": {
        "id": "w-f_DSCgNy1x",
        "colab_type": "code",
        "outputId": "5d92a82f-9eb6-489b-8f26-b14ad4121aa6",
        "colab": {
          "base_uri": "https://localhost:8080/",
          "height": 170
        }
      },
      "source": [
        "plot_model(model,to_file='/content/model.png',rankdir=\"LR\")"
      ],
      "execution_count": 0,
      "outputs": [
        {
          "output_type": "execute_result",
          "data": {
            "image/png": "[encoded data removed]",
            "text/plain": [
              "<IPython.core.display.Image object>"
            ]
          },
          "metadata": {
            "tags": []
          },
          "execution_count": 50
        }
      ]
    },
    {
      "cell_type": "code",
      "metadata": {
        "id": "90YsxeCJz0BE",
        "colab_type": "code",
        "colab": {}
      },
      "source": [
        "#Compile the model\n",
        "model.compile(optimizer='rmsprop', loss='sparse_categorical_crossentropy')\n",
        "\n",
        "#Set and early stopping criterion\n",
        "es = EarlyStopping(monitor='val_loss', mode='min', verbose=1,patience=2)"
      ],
      "execution_count": 0,
      "outputs": []
    },
    {
      "cell_type": "code",
      "metadata": {
        "id": "HQV2gSt20Eab",
        "colab_type": "code",
        "outputId": "5c199f4c-e89c-4053-d2e2-03b593862cf6",
        "colab": {
          "base_uri": "https://localhost:8080/",
          "height": 1000
        }
      },
      "source": [
        "#Train the model\n",
        "history=model.fit([x_tr,y_tr[:,:-1]], y_tr.reshape(y_tr.shape[0],y_tr.shape[1], 1)[:,1:] ,epochs=30,callbacks=[es],batch_size=128, validation_data=([x_val,y_val[:,:-1]], y_val.reshape(y_val.shape[0],y_val.shape[1], 1)[:,1:]))"
      ],
      "execution_count": 0,
      "outputs": [
        {
          "output_type": "stream",
          "text": [
            "WARNING:tensorflow:From /usr/local/lib/python3.6/dist-packages/tensorflow_core/python/ops/math_grad.py:1424: where (from tensorflow.python.ops.array_ops) is deprecated and will be removed in a future version.\n",
            "Instructions for updating:\n",
            "Use tf.where in 2.0, which has the same broadcast rule as np.where\n",
            "Train on 98920 samples, validate on 1000 samples\n",
            "Epoch 1/30\n",
            "98920/98920 [==============================] - 826s 8ms/sample - loss: 1.3517 - val_loss: 1.1664\n",
            "Epoch 2/30\n",
            "98920/98920 [==============================] - 819s 8ms/sample - loss: 1.1557 - val_loss: 1.0881\n",
            "Epoch 3/30\n",
            "98920/98920 [==============================] - 819s 8ms/sample - loss: 1.0963 - val_loss: 1.0498\n",
            "Epoch 4/30\n",
            "98920/98920 [==============================] - 823s 8ms/sample - loss: 1.0602 - val_loss: 1.0243\n",
            "Epoch 5/30\n",
            "98920/98920 [==============================] - 804s 8ms/sample - loss: 1.0341 - val_loss: 1.0061\n",
            "Epoch 6/30\n",
            "98920/98920 [==============================] - 822s 8ms/sample - loss: 1.0146 - val_loss: 0.9957\n",
            "Epoch 7/30\n",
            "98920/98920 [==============================] - 821s 8ms/sample - loss: 0.9985 - val_loss: 0.9848\n",
            "Epoch 8/30\n",
            "98920/98920 [==============================] - 824s 8ms/sample - loss: 0.9849 - val_loss: 0.9754\n",
            "Epoch 9/30\n",
            "98920/98920 [==============================] - 823s 8ms/sample - loss: 0.9723 - val_loss: 0.9639\n",
            "Epoch 10/30\n",
            "98920/98920 [==============================] - 826s 8ms/sample - loss: 0.9609 - val_loss: 0.9581\n",
            "Epoch 11/30\n",
            "98920/98920 [==============================] - 829s 8ms/sample - loss: 0.9522 - val_loss: 0.9544\n",
            "Epoch 12/30\n",
            "98920/98920 [==============================] - 827s 8ms/sample - loss: 0.9444 - val_loss: 0.9500\n",
            "Epoch 13/30\n",
            "98920/98920 [==============================] - 827s 8ms/sample - loss: 0.9365 - val_loss: 0.9428\n",
            "Epoch 14/30\n",
            "98920/98920 [==============================] - 828s 8ms/sample - loss: 0.9295 - val_loss: 0.9444\n",
            "Epoch 15/30\n",
            "98920/98920 [==============================] - 828s 8ms/sample - loss: 0.9240 - val_loss: 0.9403\n",
            "Epoch 16/30\n",
            "98920/98920 [==============================] - 825s 8ms/sample - loss: 0.9180 - val_loss: 0.9402\n",
            "Epoch 17/30\n",
            "98920/98920 [==============================] - 826s 8ms/sample - loss: 0.9130 - val_loss: 0.9339\n",
            "Epoch 18/30\n",
            "98920/98920 [==============================] - 827s 8ms/sample - loss: 0.9071 - val_loss: 0.9351\n",
            "Epoch 19/30\n",
            "98920/98920 [==============================] - 828s 8ms/sample - loss: 0.9019 - val_loss: 0.9313\n",
            "Epoch 20/30\n",
            "98920/98920 [==============================] - 829s 8ms/sample - loss: 0.8979 - val_loss: 0.9275\n",
            "Epoch 21/30\n",
            "98920/98920 [==============================] - 827s 8ms/sample - loss: 0.8939 - val_loss: 0.9239\n",
            "Epoch 22/30\n",
            "98920/98920 [==============================] - 826s 8ms/sample - loss: 0.8907 - val_loss: 0.9247\n",
            "Epoch 23/30\n",
            "98920/98920 [==============================] - 786s 8ms/sample - loss: 0.8877 - val_loss: 0.9205\n",
            "Epoch 24/30\n",
            "98920/98920 [==============================] - 768s 8ms/sample - loss: 0.8844 - val_loss: 0.9233\n",
            "Epoch 25/30\n",
            "98920/98920 [==============================] - 765s 8ms/sample - loss: 0.8804 - val_loss: 0.9191\n",
            "Epoch 26/30\n",
            "98920/98920 [==============================] - 766s 8ms/sample - loss: 0.8770 - val_loss: 0.9187\n",
            "Epoch 27/30\n",
            "98920/98920 [==============================] - 803s 8ms/sample - loss: 0.8737 - val_loss: 0.9181\n",
            "Epoch 28/30\n",
            "98920/98920 [==============================] - 810s 8ms/sample - loss: 0.8698 - val_loss: 0.9214\n",
            "Epoch 29/30\n",
            "98920/98920 [==============================] - 817s 8ms/sample - loss: 0.8664 - val_loss: 0.9210\n",
            "Epoch 00029: early stopping\n"
          ],
          "name": "stdout"
        }
      ]
    },
    {
      "cell_type": "code",
      "metadata": {
        "id": "zOeIvSRZ0OaQ",
        "colab_type": "code",
        "outputId": "6f3ab33c-f545-42bb-8048-fedd8f33294e",
        "colab": {
          "base_uri": "https://localhost:8080/",
          "height": 265
        }
      },
      "source": [
        "#Visualize the learning process\n",
        "plt.plot(history.history['loss'], label='train')\n",
        "plt.plot(history.history['val_loss'], label='test')\n",
        "plt.legend()\n",
        "plt.show()"
      ],
      "execution_count": 0,
      "outputs": [
        {
          "output_type": "display_data",
          "data": {
            "image/png": "[encoded data removed]",
            "text/plain": [
              "<Figure size 432x288 with 1 Axes>"
            ]
          },
          "metadata": {
            "tags": []
          }
        }
      ]
    },
    {
      "cell_type": "markdown",
      "metadata": {
        "id": "LI5J1RH20Wfv",
        "colab_type": "text"
      },
      "source": [
        "Next, let’s build the dictionary to convert the index to word for target and source vocabulary:"
      ]
    },
    {
      "cell_type": "code",
      "metadata": {
        "id": "pRFBvgk40X33",
        "colab_type": "code",
        "colab": {}
      },
      "source": [
        "reverse_target_word_index=y_tokenizer.index_word\n",
        "reverse_source_word_index=x_tokenizer.index_word\n",
        "target_word_index=y_tokenizer.word_index"
      ],
      "execution_count": 0,
      "outputs": []
    },
    {
      "cell_type": "code",
      "metadata": {
        "id": "Tm3mewIF0f_Z",
        "colab_type": "code",
        "colab": {}
      },
      "source": [
        "# Encode the input sequence to get the feature vector\n",
        "encoder_model = Model(inputs=encoder_inputs,outputs=[encoder_outputs, state_h, state_c])\n",
        "\n",
        "# Decoder setup\n",
        "# Below tensors will hold the states of the previous time step\n",
        "decoder_state_input_h = Input(shape=(latent_dim,))\n",
        "decoder_state_input_c = Input(shape=(latent_dim,))\n",
        "decoder_hidden_state_input = Input(shape=(max_text_len,latent_dim))\n",
        "\n",
        "# Get the embeddings of the decoder sequence\n",
        "dec_emb2= dec_emb_layer(decoder_inputs) \n",
        "# To predict the next word in the sequence, set the initial states to the states from the previous time step\n",
        "decoder_outputs2, state_h2, state_c2 = decoder_lstm(dec_emb2, initial_state=[decoder_state_input_h, decoder_state_input_c])\n",
        "\n",
        "#attention inference\n",
        "attn_out_inf, attn_states_inf = attn_layer([decoder_hidden_state_input, decoder_outputs2])\n",
        "decoder_inf_concat = Concatenate(axis=-1, name='concat')([decoder_outputs2, attn_out_inf])\n",
        "\n",
        "# A dense softmax layer to generate prob dist. over the target vocabulary\n",
        "decoder_outputs2 = decoder_dense(decoder_inf_concat) \n",
        "\n",
        "# Final decoder model\n",
        "decoder_model = Model(\n",
        "    [decoder_inputs] + [decoder_hidden_state_input,decoder_state_input_h, decoder_state_input_c],\n",
        "    [decoder_outputs2] + [state_h2, state_c2])"
      ],
      "execution_count": 0,
      "outputs": []
    },
    {
      "cell_type": "markdown",
      "metadata": {
        "id": "0eJAztSK0pOA",
        "colab_type": "text"
      },
      "source": [
        "We are defining a function below which is the implementation of the inference process"
      ]
    },
    {
      "cell_type": "code",
      "metadata": {
        "id": "bFBZxyu00p1I",
        "colab_type": "code",
        "colab": {}
      },
      "source": [
        "def decode_sequence(input_seq):\n",
        "    # Encode the input as state vectors.\n",
        "    e_out, e_h, e_c = encoder_model.predict(input_seq)\n",
        "    \n",
        "    # Generate empty target sequence of length 1.\n",
        "    target_seq = np.zeros((1,1))\n",
        "    \n",
        "    # Populate the first word of target sequence with the start word.\n",
        "    target_seq[0, 0] = target_word_index['sostok']\n",
        "\n",
        "    stop_condition = False\n",
        "    decoded_sentence = ''\n",
        "    while not stop_condition:\n",
        "      \n",
        "        output_tokens, h, c = decoder_model.predict([target_seq] + [e_out, e_h, e_c])\n",
        "\n",
        "        # Sample a token\n",
        "        sampled_token_index = np.argmax(output_tokens[0, -1, :])\n",
        "        sampled_token = reverse_target_word_index[sampled_token_index]\n",
        "        \n",
        "        if(sampled_token!='eostok'):\n",
        "            decoded_sentence += ' '+sampled_token\n",
        "\n",
        "        # Exit condition: either hit max length or find stop word.\n",
        "        if (sampled_token == 'eostok'  or len(decoded_sentence.split()) >= (max_summary_len-1)):\n",
        "            stop_condition = True\n",
        "\n",
        "        # Update the target sequence (of length 1).\n",
        "        target_seq = np.zeros((1,1))\n",
        "        target_seq[0, 0] = sampled_token_index\n",
        "\n",
        "        # Update internal states\n",
        "        e_h, e_c = h, c\n",
        "\n",
        "    return decoded_sentence"
      ],
      "execution_count": 0,
      "outputs": []
    },
    {
      "cell_type": "markdown",
      "metadata": {
        "id": "GbWRF-qH0xcD",
        "colab_type": "text"
      },
      "source": [
        "Let us define the functions to convert an integer sequence to a word sequence for summary as well as the reviews:"
      ]
    },
    {
      "cell_type": "code",
      "metadata": {
        "id": "5DqUYcdm0tMo",
        "colab_type": "code",
        "colab": {}
      },
      "source": [
        "def seq2summary(input_seq):\n",
        "    newString=''\n",
        "    for i in input_seq:\n",
        "        if((i!=0 and i!=target_word_index['sostok']) and i!=target_word_index['eostok']):\n",
        "            newString=newString+reverse_target_word_index[i]+' '\n",
        "    return newString\n",
        "\n",
        "def seq2text(input_seq):\n",
        "    newString=''\n",
        "    for i in input_seq:\n",
        "        if(i!=0):\n",
        "            newString=newString+reverse_source_word_index[i]+' '\n",
        "    return newString"
      ],
      "execution_count": 0,
      "outputs": []
    },
    {
      "cell_type": "markdown",
      "metadata": {
        "id": "xnTUqOZk06Q1",
        "colab_type": "text"
      },
      "source": [
        "Finally, we can make inference to see the results:"
      ]
    },
    {
      "cell_type": "code",
      "metadata": {
        "id": "2LA8ovIg0-Yr",
        "colab_type": "code",
        "outputId": "88ef26e2-c940-48dc-e0d9-b0ec194ba72e",
        "colab": {
          "base_uri": "https://localhost:8080/",
          "height": 1000
        }
      },
      "source": [
        "for i in range(0,100):\n",
        "    print(\"Review:\",seq2text(x_tr[i]))\n",
        "    print(\"Original summary:\",seq2summary(y_tr[i]))\n",
        "    print(\"Predicted summary:\",decode_sequence(x_tr[i].reshape(1,max_text_len)))\n",
        "    print(\"\\n\")"
      ],
      "execution_count": 0,
      "outputs": [
        {
          "output_type": "stream",
          "text": [
            "Review: looking pesto tastes good tuscany region favorite consistency bit runny moderate chunks garlic quite tasty \n",
            "Original summary: start bit pricey but yummy end \n",
            "Predicted summary:  start good stuff end\n",
            "\n",
            "\n",
            "Review: biscuit obviously love taste dog food leave drop bowls gobble quickly fact would eat sick know quit food chef michael definitely created tasty meal thrilled ingredients first ingredient beef good much grain prefer meat less grain taste like said dogs cannot get enough think buy regular kibble definitely afternoon treat \n",
            "Original summary: start paws up end \n",
            "Predicted summary:  start my dog loves it end\n",
            "\n",
            "\n",
            "Review: really like treat something hold dog licks rather taking chewy someplace getting busy ends looking holding long let keep lickin rollerball awesome friend dog old cannot chew \n",
            "Original summary: start awesome treat end \n",
            "Predicted summary:  start my dog loves these end\n",
            "\n",
            "\n",
            "Review: couple cats part household always seem hungry underfoot kitchen feed twice day mostly dry prepared cat food one requires prescription dry cat food urinary problem case would think little would get awfully tired dry crunchy stuff every give special treats wife bought variety fancy feast appetizers every split flat cats addition dry crunchy granules like appetizers yeah really fussy eat almost type cat food guess treats mainly relieve guilt feelings gary peterson \n",
            "Original summary: start special treat end \n",
            "Predicted summary:  start my cats love these end\n",
            "\n",
            "\n",
            "Review: honestly love cashews however bit strong liking others said much salt way much pepper still nuts crunchy fresh although taste suger pepper leaves hot aftertaste mouth lasts several minutes ate get something like pepper maybe get something else instead \n",
            "Original summary: start good but could be better end \n",
            "Predicted summary:  start not the best end\n",
            "\n",
            "\n",
            "Review: little guy purina pro small breed since got year old issues regards weight getting far less recommended amount still within vet thought food breeder reading labels never happy purina large corn tried going orijen eliminated objectionable grains doubled protein handle well even slow transition period stools changed greenish became much larger eventually much less formed seemed happy eat apparently tract agree back reading labels used wellness cats good response checked see appeared animal food recall lists rice gluten scare never recalled label guarantees wheat soy corn transitioned amazingly well puppy like take months see going good weight control choice mean time feel better getting corn soy \n",
            "Original summary: start is happy end \n",
            "Predicted summary:  start great food end\n",
            "\n",
            "\n",
            "Review: owned several saeco machines europe everyone including machine purchased amazon usa exceeded expectations reliable simple operate produce great coffees \n",
            "Original summary: start satisfaction after days end \n",
            "Predicted summary:  start great product end\n",
            "\n",
            "\n",
            "Review: better slim jim reason gave four stars price put snack bags fridge make great portable warm weather snack \n",
            "Original summary: start better than slim jim end \n",
            "Predicted summary:  start great snack end\n",
            "\n",
            "\n",
            "Review: child loved grandmothers house see table england always something interesting favorite mine mint jelly always made ate toasted english muffins muffins would always crunchy mint jelly always seemed wake perk whatever day searched mint jelly time realized pretty rare today stores came across maple grove jelly made real mint well must admit bought whole carton husband thought nuts tried every day put new jar \n",
            "Original summary: start jelly end \n",
            "Predicted summary:  start delicious end\n",
            "\n",
            "\n",
            "Review: dog really picky comes food usually mix old new days eat new food opened bag order arrived gave dog taste loved new food second pound bag \n",
            "Original summary: start my dog loves end \n",
            "Predicted summary:  start my dog loves it end\n",
            "\n",
            "\n",
            "Review: true himalayan pink salt bore wonderful benefits mineral rich salt figure already aware excellent rich pink salt ground well suitable use kitchen table salt nice flavor works perfectly recipes plan store shaker want add uncooked rice lump badly fine absorbs moisture without rice help love quality brand buy \n",
            "Original summary: start awesome quality end \n",
            "Predicted summary:  start himalayan salt end\n",
            "\n",
            "\n",
            "Review: bought gift well received issues packaging chest arrived damage nice wooden box could used store little nick tea gone tea bag individually sealed little pricy interested tea make nice little gift pleased adagio makes great teas regulary buy product title incorrect tea bag set bag gift set also available bought amazon pricing better adagio web site however see today offered adagio full price great deal hopefully amazon carry future \n",
            "Original summary: start nice gift end \n",
            "Predicted summary:  start great gift end\n",
            "\n",
            "\n",
            "Review: got gift boyfriend cuz really likes carnivorous plants arrived good health well gave boyfriend however follow instructions water died sure give distilled water fine \n",
            "Original summary: start pitcher plant end \n",
            "Predicted summary:  start great gift end\n",
            "\n",
            "\n",
            "Review: actually pretty good lots noodles good quality like noodles cup version hot spicy little better flavorful good put soup base packet like spiced soups fine overall would recommend company soup cup bowl easier eat work carrying bowl kitchen area back desk spilled little palm since harder control cup \n",
            "Original summary: start good for work lunches get the cup version the nong shim cup soup end \n",
            "Predicted summary:  start good but not great end\n",
            "\n",
            "\n",
            "Review: great son likes best better quaker oats brand special plan works well \n",
            "Original summary: start good end \n",
            "Predicted summary:  start great for kids with allergies end\n",
            "\n",
            "\n",
            "Review: forget cheetos best ever price better could eat bag kids beat \n",
            "Original summary: start tasty end \n",
            "Predicted summary:  start yummy end\n",
            "\n",
            "\n",
            "Review: miniature schnauzer loves treats best review give doggy treats \n",
            "Original summary: start love at first bite end \n",
            "Predicted summary:  start my dog loves these end\n",
            "\n",
            "\n",
            "Review: difficult find product indiana stores seem discontinued purchase large packet always stay stock love pastor many members church family like black currant tea think love product \n",
            "Original summary: start twinings black tea end \n",
            "Predicted summary:  start great tea end\n",
            "\n",
            "\n",
            "Review: year old loves squeeze applesauce looking healthier alternative loves plum baby blends one would eat grainy texture bland taste \n",
            "Original summary: start my toddler would not eat end \n",
            "Predicted summary:  start my daughter loves it end\n",
            "\n",
            "\n",
            "Review: little chiweenie loves dog food meat pieces chef michael creation course favorite use treats lot time also eats potato green bean pieces well problem gorging food reviewers stated could see could happen larger dogs since like spend lot dog food bad prices amazon subscribe save feature plus limited time also receive amazon coupons food number one ingredient meat followed soy products try chef michael creations well \n",
            "Original summary: start chef michael dry dog food my little pooch loves it plus it the right price end \n",
            "Predicted summary:  start my dog loves it end\n",
            "\n",
            "\n",
            "Review: shipped right time product good shape dogs love newmans organics adult dog chicken formula vet said health excellent \n",
            "Original summary: start newmans own organics adult dog chicken formula lb bag end \n",
            "Predicted summary:  start great product end\n",
            "\n",
            "\n",
            "Review: even kids would drink awful smells like locker room tasted like salt yuck \n",
            "Original summary: start disgusting end \n",
            "Predicted summary:  start yuck end\n",
            "\n",
            "\n",
            "Review: great healthy grab packs nuts almond pecan fan lot nuttier used little dry however good mix every twice size calorie pack variety inside pack seems little peanut hazelnut heavy though glad tried purchasing going calorie almond packs instead good packaging great grab cup tea \n",
            "Original summary: start end \n",
            "Predicted summary:  start great snack end\n",
            "\n",
            "\n",
            "Review: northeast pretty easy find stuff gas stations convenience stores looking sample stuff would try first know love stuff deal amazon pretty good eat stuff stick time little nervous ordering much put zip lock bags kept fine days taste wise stuff gets quality well spiciness \n",
            "Original summary: start real deal beef jerky end \n",
            "Predicted summary:  start great stuff end\n",
            "\n",
            "\n",
            "Review: coconut palm sugar bad substitute baking however significantly less sweet white sugar enjoyed sweet want sweet pastry may need amount using coconut palm sugar also hard make syrup melts quite bit faster white sugar \n",
            "Original summary: start not bad as substitute end \n",
            "Predicted summary:  start good product but not as good as the original end\n",
            "\n",
            "\n",
            "Review: love flavor make mine vanilla soy milk milk nice almost like dessert \n",
            "Original summary: start end \n",
            "Predicted summary:  start great taste end\n",
            "\n",
            "\n",
            "Review: markers work okay wish tip little softer writing candy coating press hard candy clogs pen pen little softer tipped might help could use less pressure worked expected \n",
            "Original summary: start edible markers end \n",
            "Predicted summary:  start not as good as the picture end\n",
            "\n",
            "\n",
            "Review: ordered product thinking would soft treats could use training disappointed biscuits however seem healthy treats compared dogs really like \n",
            "Original summary: start good daily treat for dogs end \n",
            "Predicted summary:  start dogs love them end\n",
            "\n",
            "\n",
            "Review: dog used work pills cheese peanut butter meat cubes broccoli anything else thought hide darn things tried loves practically swallows without chewing time find hidden pill likes chicken beef flavors equally thanks pill pockets making administering daily pills geriatric dog easy \n",
            "Original summary: start my dog says yay lt pill time end \n",
            "Predicted summary:  start great product end\n",
            "\n",
            "\n",
            "Review: love crackers great everything come tiny pieces good soup whatever new packaging working last order tests packaging sending back pain \n",
            "Original summary: start the best cracker made but change packing tiny pieces ugly end \n",
            "Predicted summary:  start great crackers end\n",
            "\n",
            "\n",
            "Review: bought tea way helping regulate system perform cleanse wow tea gentle certainly trick highly recommend anyone wanting perform cleanse enjoys taste chamomile tea \n",
            "Original summary: start tastes great does the trick end \n",
            "Predicted summary:  start great tea end\n",
            "\n",
            "\n",
            "Review: dieting trying live healthy life pumpkin big part cooking cake making pumpkin great right libby \n",
            "Original summary: start great pumpkin end \n",
            "Predicted summary:  start great pumpkin end\n",
            "\n",
            "\n",
            "Review: cannot even give stars nastiest stuff earth tastes like chemicals medicine carbination never order \n",
            "Original summary: start nasty end \n",
            "Predicted summary:  start yuck end\n",
            "\n",
            "\n",
            "Review: used packaged product stove top popcorn kettle results excellent easy popping excellent taste small amount kernels left kettle \n",
            "Original summary: start packaged popcorn end \n",
            "Predicted summary:  start great popcorn end\n",
            "\n",
            "\n",
            "Review: big fan blue diamond brand almonds really like bold flavors habanero bbq lime chili never seen jalapeno smokehouse flavor local grocery store saw amazon decided buy pleased say disappointed right favorite flavors enough heat jalapeno flavor little bit smoke almost much heat habanero flavor bad thing like spicy would defiantly recommend like bold line blue diamond almonds \n",
            "Original summary: start great flavor end \n",
            "Predicted summary:  start great flavor end\n",
            "\n",
            "\n",
            "Review: popcorn wonderful tastes great everything comes like movie popcorn home kids love \n",
            "Original summary: start wonderful end \n",
            "Predicted summary:  start great popcorn end\n",
            "\n",
            "\n",
            "Review: love taco bell grocery items excited try new rice unfortunately disappointing imitation spanish rice mexican rice tomato based sweet expected taco type seasoning cooked rice recommended amount time came mushy sticky mostly clumping together flavor much since like sweet rice tacos would try would hesitant try another flavor \n",
            "Original summary: start disappointed end \n",
            "Predicted summary:  start not bad but not great end\n",
            "\n",
            "\n",
            "Review: dog really enjoys treats plus help keep teeth clean definatly purchase \n",
            "Original summary: start great dog treat end \n",
            "Predicted summary:  start my dog loves these end\n",
            "\n",
            "\n",
            "Review: like delivered free shipping two flavors per shipment think pedigree good name dogs love convenient even like going shop anymore \n",
            "Original summary: start happy puppy dogs end \n",
            "Predicted summary:  start my dogs love these end\n",
            "\n",
            "\n",
            "Review: know everyone talking love stuff maybe everyone missing chemicals commercial condiments \n",
            "Original summary: start yum end \n",
            "Predicted summary:  start great product end\n",
            "\n",
            "\n",
            "Review: love taste sauce using year great price good quality using makes pasta yummy great buy \n",
            "Original summary: start great taste great price end \n",
            "Predicted summary:  start great sauce end\n",
            "\n",
            "\n",
            "Review: tea lovely flavor would like english breakfast tea describe leaf tea complete misnomer tea leaves crushed fragments nearly small dusty tea many grocery store bagged varieties purchased loose leaf tea use standard tea strainers unless use finest kitchen strainer cup full leaf fragments mind healthy tea leaves bottom cup results particular tea rather like stew leaves interest using disposable steeping bags would rather purchase apparatus simply enjoy tea indication product description full leaf tea would nice particularly price \n",
            "Original summary: start nice flavor but end \n",
            "Predicted summary:  start not bad end\n",
            "\n",
            "\n",
            "Review: first ordered try purchasing recipes using sounded intriguing something different ordered amazon cannot find area sweet rice cooking wine lot limit cookbooks ordering amazon ever since love cook love product \n",
            "Original summary: start wonderful end \n",
            "Predicted summary:  start great product end\n",
            "\n",
            "\n",
            "Review: using treats long time decades find accepted almost pets dog cat ferret reward taking meds nicely prefer largest size tubs economy convenience usually available pet stores thank carrying \n",
            "Original summary: start gimborn liver bits treats end \n",
            "Predicted summary:  start great treats end\n",
            "\n",
            "\n",
            "Review: complete list ingredients nutritional facts completely available last detail either added last weeks noticed \n",
            "Original summary: start why previous incorrect reviews end \n",
            "Predicted summary:  start not bad end\n",
            "\n",
            "\n",
            "Review: tried many types tea scoop tea shoppe imports waiter swears greatest one ever never expect find favorite bar none simple unassuming little box drink every single day work often using packs day fair warning pack may great deal depending live get supermarket box pack work better bargain buying local would bucks per less nothing quality product tea great \n",
            "Original summary: start best have found end \n",
            "Predicted summary:  start best tea ever end\n",
            "\n",
            "\n",
            "Review: loved every flavor tea assortment except mango passionfruit green tea jasmine peach tea english breakfast especially good used box store varieties bagged teas also nice bring box dinner party let everyone select bagged tea latch box broke year daily use probably order item \n",
            "Original summary: start great flavor nice box end \n",
            "Predicted summary:  start great tea end\n",
            "\n",
            "\n",
            "Review: even though sealed individual packages nice seems like retain freshness sticks got like shoe leather little taste would purchase think flavor since vaccummed sealed freshness also sticks get hard \n",
            "Original summary: start needs to freshness longer gets like shoe leather end \n",
            "Predicted summary:  start not bad but not great end\n",
            "\n",
            "\n",
            "Review: medium size pie ingredients add crust mix negligible carb wise eggs gram cup shredded cheese grams grate hard aged cheese whole milk grams oil grams ish grams added pie let say top tomato sauce part skim mozzarella veggies even without calculating precisely much using good bet adding another carb grams thus medium pizza pie grams carbs total eat half pie grams carbs trying lose weight two days worth carbs trying keep blood sugar stable blew lose weight eating grain free rule thumb carb grams per day net carbs per sitting evaluate gluten free label could buy product make test fasting sugar right eating hour later see average healthy non diabetic person zoom within hour take another several hours get back around day years problems start injecting insulin belly syringe meal eat whatever want food industry big pharma win sad paleo primal eating love pizza eat time eat low carb high fat diet months triglycerides went longer pre diabetic never would happened preparing meals using commercial mixes like dozens reputable low carb grain free recipe blogs websites pizza crusts made cheese eggs flax meal nut flours cauliflower even sausage easy make one processed mix spirit paleo primal eating far healthier boot \n",
            "Original summary: start care about your health run away end \n",
            "Predicted summary:  start great for low carb carb diabetics end\n",
            "\n",
            "\n",
            "Review: banana walnut oatmeal squares corazonas colossal disappointment dyed wool banana bread fan similarities texture slimy yet gritty mealy walnut sight taste primarily oatmeal slightest essence banana excessively sweet coming fifteen grams sugar would feed dog fact took bite turned nose standards fortunately beggin strips purposes please know picky eater countless times enjoyed could hideous things \n",
            "Original summary: start sour banana soggy oat end \n",
            "Predicted summary:  start not bad but not great end\n",
            "\n",
            "\n",
            "Review: great product need auto ship time tried cancel auto ship unable find tab please send email confirmation auto ship cancelled thank \n",
            "Original summary: start please our auto ship end \n",
            "Predicted summary:  start product end\n",
            "\n",
            "\n",
            "Review: starbucks lovers read whole thing everyone agree review lot star reviews coffee hence love coffee start saying coffee please people like never coffee starbucks came along starbucks coffee snob please people want decent coffee like folger mcdonalds bob evans etc fine yuban dark roast sounds like buy steal need read review starbucks addict looking replace high end coffee keep reading hoping find good tasting canned coffee save dollars replace starbucks habit ordered based many good reviews amazon actual coffee reflect ratings received site least taste tastes almost exactly like folgers brew office everyday say almost would rate one two notches office coffee put cream sugar office coffee drink yuban different may donate rest office see everyone says almost gave stars subjectively better gave stars mother law hates starbucks caribou etc going brew yuban confident love probably run buy house folger drinker better bright vinegary citrus like peak borders acidic left lemon like aftertaste much like folgers freshly opened promising scent like starbucks house blend first slight vinegar odor came wife said thing good price however looking high end replacement keep looking pros lot coffee price smidgen better folgers cons pounds coffee going taste like bag expect much \n",
            "Original summary: start not worthy starbucks replacement but ok end \n",
            "Predicted summary:  start not the same as the coffee end\n",
            "\n",
            "\n",
            "Review: tried tofu shirataki non tofu shirataki non tofu variety gel gummy ate non tofu noodles hey sooo low calorie carb tried tofu shirataki contains calories per serving sold tofu shirataki tofu noodles like ramen noodle consistency perhaps exact texture real flour based noodle calories carb content excellent shirataki noodle make sure wash wash wash scent washed enough minutes seems trick made low carb peach fettuccine stir fry angel hair could believe much better non tofu variety also impressed seller arrived within days regular shipping shipping way across country bought different varieties additional charge shipping certainly back \n",
            "Original summary: start so much better than the non tofu shirataki end \n",
            "Predicted summary:  start great for low carb diet end\n",
            "\n",
            "\n",
            "Review: usually couple cans cupboard enjoy noodles potatoes also makes good hot beef sandwiches mashed potatoes pour gravy lot beef like years ago gravy days still good \n",
            "Original summary: start good beef gravy without the mess end \n",
            "Predicted summary:  start good stuff end\n",
            "\n",
            "\n",
            "Review: got purchase different bold coffee cups find ones like best far favorite may bold enough supposed compete extra bold varieties smooth nearly bitter many bold coffees many bold blends burned flavor leaving bad taste mouth one strong without bad aftertaste perfect \n",
            "Original summary: start very good coffee end \n",
            "Predicted summary:  start great coffee end\n",
            "\n",
            "\n",
            "Review: hard time finding product dessert salad made special occasions mailed company ordered product surprised find amazon shipping came promptly good condition thank \n",
            "Original summary: start royal cherries end \n",
            "Predicted summary:  start great product end\n",
            "\n",
            "\n",
            "Review: tea smells fantastic great deal taste complaints price paid full price would dissapointed \n",
            "Original summary: start good for the price but end \n",
            "Predicted summary:  start great tea end\n",
            "\n",
            "\n",
            "Review: best tasting stuff ever ate problem eat much definitely buy \n",
            "Original summary: start hot relish end \n",
            "Predicted summary:  start best ever end\n",
            "\n",
            "\n",
            "Review: keurig brewer almost months probably tried different cup varieties one favorites green mountain nantucket blend strong light wake without jolt \n",
            "Original summary: start one of my highest rated cups end \n",
            "Predicted summary:  start great coffee end\n",
            "\n",
            "\n",
            "Review: totally love popchips sea salt vinegar much vinegar taste felt like eating vinegar took rest work people like flavor said much vinegar \n",
            "Original summary: start way too much vinegar for me end \n",
            "Predicted summary:  start not bad end\n",
            "\n",
            "\n",
            "Review: hey bacon lovers original baconnaise absolutely delicious nothing else like store shelves maker product associated way happy customer yummmy lite baconnaise like calorie restricted products taste great original fattier baconnaise suggest website buy original baconnaise lite variety hooked fast food especially mcdonald big macs got jar original baconnaise seeing featured oprah love first bite although diet food lost almost pounds weeks would rather eat home using baconnaise grab something drive thru especially like lean roast beef sandwich baconnaise fast food means french fries super sized coke think dropping pounds financially saving lot cash discovered something makes satisfied putting mouth make sense seriously costs fast food meal used eat several times week still pizza every often fast food lost allure even went far dab baconnaise stalk broccoli yesterday eat able assure veggie eater thanks tasty product hope break addiction fast food even eating veggies possibility took time write could believe negative reviews wanted clarify thinking trying baconnaise purchase original baconnaise formula helped great deal hooked life good luck happy eats \n",
            "Original summary: start buy the original not the lite flavored one end \n",
            "Predicted summary:  start great taste and texture end\n",
            "\n",
            "\n",
            "Review: buying great tasting product handy keeping times cannot get store needs refrigeration opened open lasts long time refrigerator issues expiration date mine expired months received way could use cartons time reason bought description stated long shelf life luckily amazon remedied situation \n",
            "Original summary: start great product check expiration date end \n",
            "Predicted summary:  start great product but stale end\n",
            "\n",
            "\n",
            "Review: eating stuff many years purchased packet grocery store product mold unfortunately realize popped piece mouth whereupon instantly realized something wrong expired traded another also moldy ick \n",
            "Original summary: start moldy end \n",
            "Predicted summary:  start stale end\n",
            "\n",
            "\n",
            "Review: absolutely love wish pearls excellent gift someone else much fun open oyster wear finished product excellent choice \n",
            "Original summary: start wonderful gift end \n",
            "Predicted summary:  start great gift end\n",
            "\n",
            "\n",
            "Review: california style hot pepper sauce perfect palate industrial strength hot perfect blend taste spice easy enjoy unless insist bottle like middle road flavor \n",
            "Original summary: start pepper plant if perfect end \n",
            "Predicted summary:  start hot sauce end\n",
            "\n",
            "\n",
            "Review: since joined weight watchers trying find better ways get hydration simply like plain water coworker introduced ice many flavors mango freak usually mango carry publix regularly plus tax getting subscription via amazon deal love stuff \n",
            "Original summary: start weight heaven end \n",
            "Predicted summary:  start best water ever end\n",
            "\n",
            "\n",
            "Review: disappointed green mountain cups tried one good strong flavorful holds half half also makes great iced coffee good timothy midnight magic close second would order \n",
            "Original summary: start close second to magic end \n",
            "Predicted summary:  start good coffee end\n",
            "\n",
            "\n",
            "Review: great product keeping dog teeth free tartar problems little smelly dog chews bad disadvantage keep chewing typically let chew take away put sandwich bag stays somewhat moist get excited see coming bag another chew session \n",
            "Original summary: start great bones end \n",
            "Predicted summary:  start great product end\n",
            "\n",
            "\n",
            "Review: easy prepare good cheesy flavor even realize trying velveeta cheesy skillets plenty cheese enlarge upon skillet included chicken first cooked grill adding extra broccoli garden bell banana jalapeno peppers roma tomatoes mushrooms bulk less calories per serving except could stop eating one serving cooked good amazing cheesy skillet boxes also found doritos chips went great dish rather customize suggestion ritz crackers may man choice bottom line velveeta cheesy skillets box directions brown add cover add cheese easy hey mom school day kids cook sure grader easy possible leave broccoli kids complain add favorite veggie corn beans peas carrots make lunch fun \n",
            "Original summary: start so easy man age can do it end \n",
            "Predicted summary:  start easy to make and tasty end\n",
            "\n",
            "\n",
            "Review: really good quality grains easy prepare feel every meal definitely elevated carbs best get much cheaper amazon subscribe save \n",
            "Original summary: start love this rice end \n",
            "Predicted summary:  start great product end\n",
            "\n",
            "\n",
            "Review: beagle vegetarian almost two years feed product pet guard vegetarian feast canned vegetarian dry never healthier coat never softer cruelty free ever let anyone tell dog cannot vegetarian \n",
            "Original summary: start yes your dog can be vegetarian end \n",
            "Predicted summary:  start my dogs love this food end\n",
            "\n",
            "\n",
            "Review: flavor delicious wish walkers brand america never tasted chips like life making brand different intriguing flavors recommended trying flavor \n",
            "Original summary: start amazing end \n",
            "Predicted summary:  start best chips ever end\n",
            "\n",
            "\n",
            "Review: amongst best eaten rubbery super chewy like lot ones perfect individually wrapped pieces box \n",
            "Original summary: start excellent end \n",
            "Predicted summary:  start great product end\n",
            "\n",
            "\n",
            "Review: crown prince whole smoked oysters cottonseed oil doubt best enjoying since young girl cant imagine holiday without delicious smoked oysters want best smoked whole oysters amazon com start shopping crown prince enjoy \n",
            "Original summary: start whole smoked to die for end \n",
            "Predicted summary:  start delicious end\n",
            "\n",
            "\n",
            "Review: kitten loves food upset tummy like wellness kitten food would recommend \n",
            "Original summary: start kitten loves it end \n",
            "Predicted summary:  start my picky eater loves this end\n",
            "\n",
            "\n",
            "Review: dog loves food follows around meal time till gets food never leaves dish till gone \n",
            "Original summary: start happy dog end \n",
            "Predicted summary:  start my dog loves it end\n",
            "\n",
            "\n",
            "Review: crispy light flavor rice sesame lightly salted love crackers \n",
            "Original summary: start delicious end \n",
            "Predicted summary:  start delicious end\n",
            "\n",
            "\n",
            "Review: product fantastic instead popcorn eat pork rinds carbs helped keep weight feel made better choice eat practically every night thanks great product \n",
            "Original summary: start pork rinds end \n",
            "Predicted summary:  start great product end\n",
            "\n",
            "\n",
            "Review: using product years pretty well unchanged great add cocktails great way make water interesting without adding significant amounts sugar \n",
            "Original summary: start tried and true end \n",
            "Predicted summary:  start great stuff end\n",
            "\n",
            "\n",
            "Review: peach flavor could stronger use iced tea makes good fresh quality tea \n",
            "Original summary: start reasonably good tea end \n",
            "Predicted summary:  start great tea end\n",
            "\n",
            "\n",
            "Review: dog loves treats count box best deal come foil package box stay fresh till last one \n",
            "Original summary: start great greenies end \n",
            "Predicted summary:  start great treats end\n",
            "\n",
            "\n",
            "Review: chihuahua pomeranian get excited bring teenie dental chews meal hope always stock buy frequently seems help reduce tartar teeth exceptionally high protein unlike treats \n",
            "Original summary: start my dogs go crazy for greenies end \n",
            "Predicted summary:  start my dogs love greenies end\n",
            "\n",
            "\n",
            "Review: solo apricot filling arrived afternoon six days placed order free shipping remembered childhood mother made apricot thrilled supply twelve cans increasingly hard find local markets \n",
            "Original summary: start delighted end \n",
            "Predicted summary:  start not what expected end\n",
            "\n",
            "\n",
            "Review: first order expected rate year contents sure bargin \n",
            "Original summary: start great end \n",
            "Predicted summary:  start good but not great end\n",
            "\n",
            "\n",
            "Review: product protein per serving ideal getting lean calories practically fat taste fairly forgettable regrettable need pure bulk fast recommend gainer know whey tough stomach many people including lot controversy regarding high protein muscle gain weight loss jury seems still however say sure protein per body weight going cause health issues long term also ideal ratio carbos fat protein varies body type desired goal best way learn trial error personally diet relatively high fat protein works well ideal short term definitely recommend product either people cannot take whey wanting get lean pure egg purely brilliant idea \n",
            "Original summary: start superb when you cannot take whey or even when you can end \n",
            "Predicted summary:  start great protein bar end\n",
            "\n",
            "\n",
            "Review: kraft velveeta ultimate cheeseburger skillets dinner kit strikes slightly upgraded hamburger helper case get velveeta cheese pouch basically quick easy one dish meal brown beef add water spices cheese pouch simmer done bad makes convenient quick meal said notably better similar hamburger helper dishes generally add real cheese despite fact expensive also pasta dishes often better cooling reheating case cheese sauce seems separate bit reheated product bit mess best finish first made bad product would eat nothing ordinary \n",
            "Original summary: start not awful but nothing special either this under glorified hamburger helper end \n",
            "Predicted summary:  start not bad end\n",
            "\n",
            "\n",
            "Review: ingredients cups ice cup white sugar hidden valley original ranch dressing ounce packages cup lime juice cup lemon juice cup rum cup lemon lime flavored carbonated beverage \n",
            "Original summary: start ranch recipe end \n",
            "Predicted summary:  start not bad end\n",
            "\n",
            "\n",
            "Review: every time make zatarain mix think great singer hit recording jambalaya time thought jambalaya meant party know different good product based new orleans sure read really helped katrina share add ground turkey instead ground beef sometimes also sausage meat great box terrific cannot find larger size local markets zatarains prices risen area amazon price right \n",
            "Original summary: start rosemary end \n",
            "Predicted summary:  start great product end\n",
            "\n",
            "\n",
            "Review: keep ordering future love cut small veggies fridge put pan stock soften add teaspoon two teaspoons madras curry simmer long veggies still bit bite also use meat curry rice past shipment super fast curry fresh packaging save well since ships glass jar \n",
            "Original summary: start good spice mix end \n",
            "Predicted summary:  start great for cooking end\n",
            "\n",
            "\n",
            "Review: admit oversalted chip addictive really think one gone far skin literally peeled lips inside mouth eating surprised still market \n",
            "Original summary: start burns the skin off your lips end \n",
            "Predicted summary:  start not the best end\n",
            "\n",
            "\n",
            "Review: buying alpen years closest product found swedish whole grain loved visiting low sodium dietary fiber protein fat cup half cup serving enough eaten next described sliced almonds hazelnuts raisins absolutely super sort yogurt skim milk available favorite fruit fresh canned add additional dried fruit like cranberries winter best amazon price automatic shipping much cheaper grocery store eat boxes month days try \n",
            "Original summary: start healthy and delicious cereal end \n",
            "Predicted summary:  start best snack ever end\n",
            "\n",
            "\n",
            "Review: lot flavor love senseo machine customer service love ability use different flavors coffee tea everyone favorite seconds use lot french vanilla \n",
            "Original summary: start we love it end \n",
            "Predicted summary:  start great flavor end\n",
            "\n",
            "\n",
            "Review: product impossible find local grocery stores area friend turned treat several months ago family absolutely adore second case ordered months used main dish home side dish large party \n",
            "Original summary: start well kept secret end \n",
            "Predicted summary:  start great product end\n",
            "\n",
            "\n",
            "Review: como para familia usa que est muy bueno jam cesar \n",
            "Original summary: start de thanksgiving lo en end \n",
            "Predicted summary:  start end\n",
            "\n",
            "\n",
            "Review: bee subscribing coffee months multiple shipments quality last shipment opened new box today made cup wondered watery made second thinking fluke seems kcups box whole box full kcups half coffee instead strong bold like dark magic supposed weak watery even making smaller cup amazon let return dedicated amazon customer use subscribe save many items treat like dedicated customer might stopping membership hoping make right \n",
            "Original summary: start product has changed end \n",
            "Predicted summary:  start great coffee but not bad end\n",
            "\n",
            "\n",
            "Review: kids love classic pez candies problem fast \n",
            "Original summary: start classic end \n",
            "Predicted summary:  start great candy end\n",
            "\n",
            "\n",
            "Review: feed puppy along dry formula get eat licking bowl clean seem large bowel movements getting eating know trust ingredients \n",
            "Original summary: start puppy likes it end \n",
            "Predicted summary:  start my dog loves it end\n",
            "\n",
            "\n",
            "Review: yes quaker went back old recipe woohoo love stuff maple brown sugar flavor grew eating unfortunately picky eater nothing else sensitive new flavors textures year two ago quaker scrapped old recipe came new improved recipe unwittingly tried repulsed thinking would gotten bad batch realized reformulated new version hearty oats natural flavor hit emailed quaker complaint nicely sent coupon use quaker product used life cereal anyway guess one complaining new improved recipe quaker returned tried true classic recipe old maple brown sugar flavor texture back sure probably healthy old fashioned homecooked oats like old fashioned oats flavor texture instant oatmeal comfort food since braces good food eat teeth aching \n",
            "Original summary: start the good ol classic recipe that grew up with end \n",
            "Predicted summary:  start not what expected end\n",
            "\n",
            "\n",
            "Review: sodium per serving chips crisp sometimes dip low salt ketchup adds bit flavor \n",
            "Original summary: start great chips with very low sodium end \n",
            "Predicted summary:  start great chips end\n",
            "\n",
            "\n",
            "Review: tried omega tastes great drink every day smoothie used baking yet \n",
            "Original summary: start tasty terrific end \n",
            "Predicted summary:  start great product end\n",
            "\n",
            "\n"
          ],
          "name": "stdout"
        }
      ]
    },
    {
      "cell_type": "markdown",
      "metadata": {
        "id": "6T9z7gcRoyBr",
        "colab_type": "text"
      },
      "source": [
        "###**3. Evaluation**\n"
      ]
    },
    {
      "cell_type": "markdown",
      "metadata": {
        "id": "Kwiyf9LSqpO8",
        "colab_type": "text"
      },
      "source": [
        "####**Human quality evaluation**\n",
        "\n",
        "We will take 25 summaries made by each method and evaluate them with a score from 0 to 3 in terms of effectiveness and utility, namely the ability of reporting the main opinion expressed by the Amazon user about the given item. The score will be \n",
        "- **0**, if summary is completely non understandable\n",
        "- **1**, if summary is clear but return other concepts or the opposite idea with respect to the original text\n",
        "- **2**, if summary is well comprehensible and provide an information, but this information does not sum up effectively the content of the text\n",
        "- **3**, if summary is perfectly comprehensible and provide the right information about the main content of the text\n",
        "<br>\n",
        "The final evaluation will be computed as the average score over the same reviews."
      ]
    },
    {
      "cell_type": "markdown",
      "metadata": {
        "id": "kQx7SdcOWhH7",
        "colab_type": "text"
      },
      "source": [
        "27 texts and summaries have been randomly selected from the dataset, in order to evaluate the performances of the summarizer:"
      ]
    },
    {
      "cell_type": "code",
      "metadata": {
        "id": "C-o5SlgdYP-P",
        "colab_type": "code",
        "outputId": "d47f5846-c11c-42d5-e7df-8e56f71cad53",
        "colab": {
          "base_uri": "https://localhost:8080/",
          "height": 886
        }
      },
      "source": [
        "dt = pd.read_csv(\"/content/test.csv\")\n",
        "dt = dt[['Text','Summary']]\n",
        "dt"
      ],
      "execution_count": 0,
      "outputs": [
        {
          "output_type": "execute_result",
          "data": {
            "text/html": [
              "<div>\n",
              "<style scoped>\n",
              "    .dataframe tbody tr th:only-of-type {\n",
              "        vertical-align: middle;\n",
              "    }\n",
              "\n",
              "    .dataframe tbody tr th {\n",
              "        vertical-align: top;\n",
              "    }\n",
              "\n",
              "    .dataframe thead th {\n",
              "        text-align: right;\n",
              "    }\n",
              "</style>\n",
              "<table border=\"1\" class=\"dataframe\">\n",
              "  <thead>\n",
              "    <tr style=\"text-align: right;\">\n",
              "      <th></th>\n",
              "      <th>Text</th>\n",
              "      <th>Summary</th>\n",
              "    </tr>\n",
              "  </thead>\n",
              "  <tbody>\n",
              "    <tr>\n",
              "      <th>0</th>\n",
              "      <td>Mallomars Pure Chocolate Cookies are delicious...</td>\n",
              "      <td>Delicious!</td>\n",
              "    </tr>\n",
              "    <tr>\n",
              "      <th>1</th>\n",
              "      <td>I can do organic, I usually prefer it. Whateve...</td>\n",
              "      <td>Taste terrible</td>\n",
              "    </tr>\n",
              "    <tr>\n",
              "      <th>2</th>\n",
              "      <td>This package of six boxes of forty eight bags ...</td>\n",
              "      <td>Misleading Advertisement</td>\n",
              "    </tr>\n",
              "    <tr>\n",
              "      <th>3</th>\n",
              "      <td>Biscuit and DJ obviously love the taste of thi...</td>\n",
              "      <td>2 Paws up!</td>\n",
              "    </tr>\n",
              "    <tr>\n",
              "      <th>4</th>\n",
              "      <td>Honestly I love cashews however these are a bi...</td>\n",
              "      <td>Good but could be better</td>\n",
              "    </tr>\n",
              "    <tr>\n",
              "      <th>5</th>\n",
              "      <td>Only 5mg sodium per serving, chips are crisp. ...</td>\n",
              "      <td>Great chips with very low sodium</td>\n",
              "    </tr>\n",
              "    <tr>\n",
              "      <th>6</th>\n",
              "      <td>YES!  Quaker went back to the old recipe!  Woo...</td>\n",
              "      <td>The good ol' Classic Recipe that I grew up with</td>\n",
              "    </tr>\n",
              "    <tr>\n",
              "      <th>7</th>\n",
              "      <td>We go through a lot of this flavor.  Love the ...</td>\n",
              "      <td>We Love It</td>\n",
              "    </tr>\n",
              "    <tr>\n",
              "      <th>8</th>\n",
              "      <td>I had this before and I will keep ordering it ...</td>\n",
              "      <td>Good spice mix</td>\n",
              "    </tr>\n",
              "    <tr>\n",
              "      <th>9</th>\n",
              "      <td>My chihuahua and pomeranian get so excited whe...</td>\n",
              "      <td>my dogs go crazy for Greenies</td>\n",
              "    </tr>\n",
              "    <tr>\n",
              "      <th>10</th>\n",
              "      <td>While I admit that the oversalted chip is addi...</td>\n",
              "      <td>burns the skin off your lips</td>\n",
              "    </tr>\n",
              "    <tr>\n",
              "      <th>11</th>\n",
              "      <td>I've bee subscribing to this coffee for months...</td>\n",
              "      <td>Product has changed</td>\n",
              "    </tr>\n",
              "    <tr>\n",
              "      <th>12</th>\n",
              "      <td>We've been buying Alpen for years as the close...</td>\n",
              "      <td>Healthy AND Delicious cereal</td>\n",
              "    </tr>\n",
              "    <tr>\n",
              "      <th>13</th>\n",
              "      <td>This product has 24g of protein per serving an...</td>\n",
              "      <td>Superb when you can't take whey or even when y...</td>\n",
              "    </tr>\n",
              "    <tr>\n",
              "      <th>14</th>\n",
              "      <td>This is my first order and it is MORE that I e...</td>\n",
              "      <td>Great!</td>\n",
              "    </tr>\n",
              "    <tr>\n",
              "      <th>15</th>\n",
              "      <td>My Solo Apricot Filling arrived this afternoon...</td>\n",
              "      <td>Delighted</td>\n",
              "    </tr>\n",
              "    <tr>\n",
              "      <th>16</th>\n",
              "      <td>Since I joined Weight Watchers I have been try...</td>\n",
              "      <td>Weight Watcher heaven</td>\n",
              "    </tr>\n",
              "    <tr>\n",
              "      <th>17</th>\n",
              "      <td>This flavor is delicious!! I wish the \"Walkers...</td>\n",
              "      <td>Amazing!!</td>\n",
              "    </tr>\n",
              "    <tr>\n",
              "      <th>18</th>\n",
              "      <td>Easy to prepare. Good cheesy flavor. Even I ca...</td>\n",
              "      <td>So easy a man age 63 can do it.</td>\n",
              "    </tr>\n",
              "    <tr>\n",
              "      <th>19</th>\n",
              "      <td>I've been eating this stuff here and there for...</td>\n",
              "      <td>moldy!</td>\n",
              "    </tr>\n",
              "    <tr>\n",
              "      <th>20</th>\n",
              "      <td>I will be buying this again,  it is a great ta...</td>\n",
              "      <td>Great product, check expiration date</td>\n",
              "    </tr>\n",
              "    <tr>\n",
              "      <th>21</th>\n",
              "      <td>I absolutely LOVE Wish Pearls.  They are an ex...</td>\n",
              "      <td>Wonderful Gift</td>\n",
              "    </tr>\n",
              "    <tr>\n",
              "      <th>22</th>\n",
              "      <td>Hey Bacon Lovers, The original BACONNAISE is a...</td>\n",
              "      <td>Buy the ORIGINAL BACONNAISE not the LITE flavo...</td>\n",
              "    </tr>\n",
              "    <tr>\n",
              "      <th>23</th>\n",
              "      <td>I have tried both the Tofu Shirataki and the N...</td>\n",
              "      <td>So much better than the Non Tofu Shirataki!</td>\n",
              "    </tr>\n",
              "    <tr>\n",
              "      <th>24</th>\n",
              "      <td>This is the kind of garbage \"food\" that gives ...</td>\n",
              "      <td>Care about your health? Run away screaming!</td>\n",
              "    </tr>\n",
              "    <tr>\n",
              "      <th>25</th>\n",
              "      <td>The Coconut Palm Sugar wasn't too bad as a sub...</td>\n",
              "      <td>Not bad as a substitute</td>\n",
              "    </tr>\n",
              "    <tr>\n",
              "      <th>26</th>\n",
              "      <td>In the northeast it's pretty easy to find this...</td>\n",
              "      <td>Real Deal Beef Jerky</td>\n",
              "    </tr>\n",
              "  </tbody>\n",
              "</table>\n",
              "</div>"
            ],
            "text/plain": [
              "                                                 Text                                            Summary\n",
              "0   Mallomars Pure Chocolate Cookies are delicious...                                         Delicious!\n",
              "1   I can do organic, I usually prefer it. Whateve...                                     Taste terrible\n",
              "2   This package of six boxes of forty eight bags ...                           Misleading Advertisement\n",
              "3   Biscuit and DJ obviously love the taste of thi...                                         2 Paws up!\n",
              "4   Honestly I love cashews however these are a bi...                           Good but could be better\n",
              "5   Only 5mg sodium per serving, chips are crisp. ...                   Great chips with very low sodium\n",
              "6   YES!  Quaker went back to the old recipe!  Woo...    The good ol' Classic Recipe that I grew up with\n",
              "7   We go through a lot of this flavor.  Love the ...                                         We Love It\n",
              "8   I had this before and I will keep ordering it ...                                     Good spice mix\n",
              "9   My chihuahua and pomeranian get so excited whe...                      my dogs go crazy for Greenies\n",
              "10  While I admit that the oversalted chip is addi...                       burns the skin off your lips\n",
              "11  I've bee subscribing to this coffee for months...                                Product has changed\n",
              "12  We've been buying Alpen for years as the close...                       Healthy AND Delicious cereal\n",
              "13  This product has 24g of protein per serving an...  Superb when you can't take whey or even when y...\n",
              "14  This is my first order and it is MORE that I e...                                             Great!\n",
              "15  My Solo Apricot Filling arrived this afternoon...                                          Delighted\n",
              "16  Since I joined Weight Watchers I have been try...                              Weight Watcher heaven\n",
              "17  This flavor is delicious!! I wish the \"Walkers...                                          Amazing!!\n",
              "18  Easy to prepare. Good cheesy flavor. Even I ca...                    So easy a man age 63 can do it.\n",
              "19  I've been eating this stuff here and there for...                                             moldy!\n",
              "20  I will be buying this again,  it is a great ta...               Great product, check expiration date\n",
              "21  I absolutely LOVE Wish Pearls.  They are an ex...                                     Wonderful Gift\n",
              "22  Hey Bacon Lovers, The original BACONNAISE is a...  Buy the ORIGINAL BACONNAISE not the LITE flavo...\n",
              "23  I have tried both the Tofu Shirataki and the N...        So much better than the Non Tofu Shirataki!\n",
              "24  This is the kind of garbage \"food\" that gives ...        Care about your health? Run away screaming!\n",
              "25  The Coconut Palm Sugar wasn't too bad as a sub...                            Not bad as a substitute\n",
              "26  In the northeast it's pretty easy to find this...                               Real Deal Beef Jerky"
            ]
          },
          "metadata": {
            "tags": []
          },
          "execution_count": 22
        }
      ]
    },
    {
      "cell_type": "markdown",
      "metadata": {
        "id": "hJjElVFOYr-e",
        "colab_type": "text"
      },
      "source": [
        "Thus, the 27 predicted summaries will be generated with each method, and written into different files, for human analysis:"
      ]
    },
    {
      "cell_type": "code",
      "metadata": {
        "id": "SV6ouxjPXQ1b",
        "colab_type": "code",
        "colab": {}
      },
      "source": [
        "##Extractive methods\n",
        "\n",
        "#LSA\n",
        "LSA = [LSA_summarize(dt['Text'][i],1) for i in range(27)]\n",
        "\n",
        "#TextRank\n",
        "TextRank = [summary(dt['Text'][i],1,pretty=True) for i in range(27)]\n",
        "\n",
        "#Gensim TextRank\n",
        "#TextRank_gensim = [summarize(dt['Text'][i]) for i in range(27)]\n",
        "\n",
        "#PyTextRank\n",
        "PyTextRank = [PTR(dt['Text'][i]) for i in range(27)]\n",
        "\n",
        "#Luhn's Algorithm\n",
        "Luhn = [Luhn_summarize(dt['Text'][i]) for i in range(27)]\n",
        "\n",
        "#BERT NN\n",
        "BERT = [BERT_summarize(dt['Text'][i]) for i in range(27)]\n",
        "\n",
        "l = [LSA,TextRank,PyTextRank,Luhn,BERT]"
      ],
      "execution_count": 0,
      "outputs": []
    },
    {
      "cell_type": "code",
      "metadata": {
        "id": "hWVoNDTrit-k",
        "colab_type": "code",
        "colab": {}
      },
      "source": [
        "#Create evaluation dataframe\n",
        "ev = pd.DataFrame(pd.concat([pd.DataFrame([i for i in l])]))"
      ],
      "execution_count": 0,
      "outputs": []
    },
    {
      "cell_type": "code",
      "metadata": {
        "id": "q739Dny9jkKE",
        "colab_type": "code",
        "outputId": "390bf072-7d8e-4281-8815-64725327416c",
        "colab": {
          "base_uri": "https://localhost:8080/",
          "height": 1000
        }
      },
      "source": [
        "#Add original text and summary:\n",
        "ev = dt.transpose().append(ev)\n",
        "ev"
      ],
      "execution_count": 0,
      "outputs": [
        {
          "output_type": "execute_result",
          "data": {
            "text/html": [
              "<div>\n",
              "<style scoped>\n",
              "    .dataframe tbody tr th:only-of-type {\n",
              "        vertical-align: middle;\n",
              "    }\n",
              "\n",
              "    .dataframe tbody tr th {\n",
              "        vertical-align: top;\n",
              "    }\n",
              "\n",
              "    .dataframe thead th {\n",
              "        text-align: right;\n",
              "    }\n",
              "</style>\n",
              "<table border=\"1\" class=\"dataframe\">\n",
              "  <thead>\n",
              "    <tr style=\"text-align: right;\">\n",
              "      <th></th>\n",
              "      <th>0</th>\n",
              "      <th>1</th>\n",
              "      <th>2</th>\n",
              "      <th>3</th>\n",
              "      <th>4</th>\n",
              "      <th>5</th>\n",
              "      <th>6</th>\n",
              "      <th>7</th>\n",
              "      <th>8</th>\n",
              "      <th>9</th>\n",
              "      <th>10</th>\n",
              "      <th>11</th>\n",
              "      <th>12</th>\n",
              "      <th>13</th>\n",
              "      <th>14</th>\n",
              "      <th>15</th>\n",
              "      <th>16</th>\n",
              "      <th>17</th>\n",
              "      <th>18</th>\n",
              "      <th>19</th>\n",
              "      <th>20</th>\n",
              "      <th>21</th>\n",
              "      <th>22</th>\n",
              "      <th>23</th>\n",
              "      <th>24</th>\n",
              "      <th>25</th>\n",
              "      <th>26</th>\n",
              "    </tr>\n",
              "  </thead>\n",
              "  <tbody>\n",
              "    <tr>\n",
              "      <th>Text</th>\n",
              "      <td>Mallomars Pure Chocolate Cookies are delicious...</td>\n",
              "      <td>I can do organic, I usually prefer it. Whateve...</td>\n",
              "      <td>This package of six boxes of forty eight bags ...</td>\n",
              "      <td>Biscuit and DJ obviously love the taste of thi...</td>\n",
              "      <td>Honestly I love cashews however these are a bi...</td>\n",
              "      <td>Only 5mg sodium per serving, chips are crisp. ...</td>\n",
              "      <td>YES!  Quaker went back to the old recipe!  Woo...</td>\n",
              "      <td>We go through a lot of this flavor.  Love the ...</td>\n",
              "      <td>I had this before and I will keep ordering it ...</td>\n",
              "      <td>My chihuahua and pomeranian get so excited whe...</td>\n",
              "      <td>While I admit that the oversalted chip is addi...</td>\n",
              "      <td>I've bee subscribing to this coffee for months...</td>\n",
              "      <td>We've been buying Alpen for years as the close...</td>\n",
              "      <td>This product has 24g of protein per serving an...</td>\n",
              "      <td>This is my first order and it is MORE that I e...</td>\n",
              "      <td>My Solo Apricot Filling arrived this afternoon...</td>\n",
              "      <td>Since I joined Weight Watchers I have been try...</td>\n",
              "      <td>This flavor is delicious!! I wish the \"Walkers...</td>\n",
              "      <td>Easy to prepare. Good cheesy flavor. Even I ca...</td>\n",
              "      <td>I've been eating this stuff here and there for...</td>\n",
              "      <td>I will be buying this again,  it is a great ta...</td>\n",
              "      <td>I absolutely LOVE Wish Pearls.  They are an ex...</td>\n",
              "      <td>Hey Bacon Lovers, The original BACONNAISE is a...</td>\n",
              "      <td>I have tried both the Tofu Shirataki and the N...</td>\n",
              "      <td>This is the kind of garbage \"food\" that gives ...</td>\n",
              "      <td>The Coconut Palm Sugar wasn't too bad as a sub...</td>\n",
              "      <td>In the northeast it's pretty easy to find this...</td>\n",
              "    </tr>\n",
              "    <tr>\n",
              "      <th>Summary</th>\n",
              "      <td>Delicious!</td>\n",
              "      <td>Taste terrible</td>\n",
              "      <td>Misleading Advertisement</td>\n",
              "      <td>2 Paws up!</td>\n",
              "      <td>Good but could be better</td>\n",
              "      <td>Great chips with very low sodium</td>\n",
              "      <td>The good ol' Classic Recipe that I grew up with</td>\n",
              "      <td>We Love It</td>\n",
              "      <td>Good spice mix</td>\n",
              "      <td>my dogs go crazy for Greenies</td>\n",
              "      <td>burns the skin off your lips</td>\n",
              "      <td>Product has changed</td>\n",
              "      <td>Healthy AND Delicious cereal</td>\n",
              "      <td>Superb when you can't take whey or even when y...</td>\n",
              "      <td>Great!</td>\n",
              "      <td>Delighted</td>\n",
              "      <td>Weight Watcher heaven</td>\n",
              "      <td>Amazing!!</td>\n",
              "      <td>So easy a man age 63 can do it.</td>\n",
              "      <td>moldy!</td>\n",
              "      <td>Great product, check expiration date</td>\n",
              "      <td>Wonderful Gift</td>\n",
              "      <td>Buy the ORIGINAL BACONNAISE not the LITE flavo...</td>\n",
              "      <td>So much better than the Non Tofu Shirataki!</td>\n",
              "      <td>Care about your health? Run away screaming!</td>\n",
              "      <td>Not bad as a substitute</td>\n",
              "      <td>Real Deal Beef Jerky</td>\n",
              "    </tr>\n",
              "    <tr>\n",
              "      <th>0</th>\n",
              "      <td>Pour yourself an ice cold glass of milk, sit b...</td>\n",
              "      <td>I can do organic, I usually prefer it.</td>\n",
              "      <td>This package of six boxes of forty eight bags ...</td>\n",
              "      <td>In fact they would eat themselves sick!</td>\n",
              "      <td>I ate a 4th of the can then had to get somethi...</td>\n",
              "      <td>Only 5mg sodium per serving, chips are crisp.</td>\n",
              "      <td>Woohoo!</td>\n",
              "      <td>Love the ability to use different flavors of c...</td>\n",
              "      <td>Packaging was save as well, since it ships in ...</td>\n",
              "      <td>My chihuahua and pomeranian get so excited whe...</td>\n",
              "      <td>While I admit that the oversalted chip is addi...</td>\n",
              "      <td>It's weak and watery even on making a smaller ...</td>\n",
              "      <td>Very low sodium (15 mg), 6 gr dietary fiber, 7...</td>\n",
              "      <td>The taste is fairly forgettable but not regret...</td>\n",
              "      <td>This is my first order and it is MORE that I e...</td>\n",
              "      <td>It's just as I remembered it from my childhood...</td>\n",
              "      <td>I love this stuff.........</td>\n",
              "      <td>This flavor is delicious!!</td>\n",
              "      <td>More bulk, less calories per serving, except I...</td>\n",
              "      <td>I traded it in or another which was also moldy.</td>\n",
              "      <td>My issues were with the expiration date.</td>\n",
              "      <td>I absolutely LOVE Wish Pearls.</td>\n",
              "      <td>There is NOTHING else like it on store shelves!</td>\n",
              "      <td>I will certainly be back again.</td>\n",
              "      <td>This is the kind of garbage \"food\" that gives ...</td>\n",
              "      <td>The Coconut Palm Sugar wasn't too bad as a sub...</td>\n",
              "      <td>In the northeast it's pretty easy to find this...</td>\n",
              "    </tr>\n",
              "    <tr>\n",
              "      <th>1</th>\n",
              "      <td>Tasty chocolate on the inside, and an equally ...</td>\n",
              "      <td>I can't stand the taste of these I ended up ju...</td>\n",
              "      <td>There is nothing family sized about single use...</td>\n",
              "      <td>But, as for the taste, like I said my dogs can...</td>\n",
              "      <td>I ate a 4th of the can then had to get somethi...</td>\n",
              "      <td>Only 5mg sodium per serving, chips are crisp.</td>\n",
              "      <td>Sure, it's probably not as healthy for me as o...</td>\n",
              "      <td>We go through a lot of this flavor.</td>\n",
              "      <td>I will add (depending how spicy I want it) a t...</td>\n",
              "      <td>My chihuahua and pomeranian get so excited whe...</td>\n",
              "      <td>While I admit that the oversalted chip is addi...</td>\n",
              "      <td>Instead of it being strong and bold like dark ...</td>\n",
              "      <td>We eat about 6 boxes a month as we have it mos...</td>\n",
              "      <td>Personally, a diet relatively high in fat and ...</td>\n",
              "      <td>This is my first order and it is MORE that I e...</td>\n",
              "      <td>It's just as I remembered it from my childhood...</td>\n",
              "      <td>Since I joined Weight Watchers I have been try...</td>\n",
              "      <td>I congratulate the UK for making this brand an...</td>\n",
              "      <td>Even I can do it.I did realize after trying ot...</td>\n",
              "      <td>I traded it in or another which was also moldy.</td>\n",
              "      <td>There was no way that I could use 12 32oz cart...</td>\n",
              "      <td>They are an excellent gift for yourself or som...</td>\n",
              "      <td>Although it's NOT a diet food, I have lost alm...</td>\n",
              "      <td>Perhaps not the exact same texture as a real f...</td>\n",
              "      <td>If you're trying to keep your blood sugar stab...</td>\n",
              "      <td>I enjoyed that it wasn't as sweet but for thos...</td>\n",
              "      <td>In the northeast it's pretty easy to find this...</td>\n",
              "    </tr>\n",
              "    <tr>\n",
              "      <th>3</th>\n",
              "      <td>Pour yourself an ice cold glass of milk, sit b...</td>\n",
              "      <td>I'll take some Haribo if you please.</td>\n",
              "      <td>This package of six boxes of forty eight bags ...</td>\n",
              "      <td>I prefer more meat and less grain.</td>\n",
              "      <td>I ate a 4th of the can then had to get somethi...</td>\n",
              "      <td>Only 5mg sodium per serving, chips are crisp.</td>\n",
              "      <td>Now I have my old Maple Brown Sugar flavor and...</td>\n",
              "      <td>Love the ability to use different flavors of c...</td>\n",
              "      <td>I also use it on meat curry's over rice and past.</td>\n",
              "      <td>and it's exceptionally high in protein unlike ...</td>\n",
              "      <td>While I admit that the oversalted chip is addi...</td>\n",
              "      <td>I'm a dedicated amazon customer and use subscr...</td>\n",
              "      <td>This has sliced almonds, hazelnuts and raisins...</td>\n",
              "      <td>However, what I can say for sure (because Doct...</td>\n",
              "      <td>This is my first order and it is MORE that I e...</td>\n",
              "      <td>My Solo Apricot Filling arrived this afternoon...</td>\n",
              "      <td>Since I joined Weight Watchers I have been try...</td>\n",
              "      <td>I congratulate the UK for making this brand an...</td>\n",
              "      <td>I did realize after trying other Velveeta Chee...</td>\n",
              "      <td>I purchased a packet at the grocery store and ...</td>\n",
              "      <td>I will be buying this again,  it is a great ta...</td>\n",
              "      <td>So much fun to open the oyster and then wear t...</td>\n",
              "      <td>I took the time to write this because I could ...</td>\n",
              "      <td>I ate the non-tofu noodles, because, hey they ...</td>\n",
              "      <td>The other ingredients you add to the crust mix...</td>\n",
              "      <td>The Coconut Palm Sugar wasn't too bad as a sub...</td>\n",
              "      <td>In the northeast it's pretty easy to find this...</td>\n",
              "    </tr>\n",
              "    <tr>\n",
              "      <th>4</th>\n",
              "      <td>Tasty chocolate on the inside, and an equally ...</td>\n",
              "      <td>I can't stand the taste of these I ended up ju...</td>\n",
              "      <td>This package of six boxes of forty eight bags ...</td>\n",
              "      <td>They don't leave a drop in their bowls and gob...</td>\n",
              "      <td>I ate a 4th of the can then had to get somethi...</td>\n",
              "      <td>I sometimes will dip in a low salt ketchup and...</td>\n",
              "      <td>I am unfortunately a picky eater, nothing else...</td>\n",
              "      <td>We just use a lot of the French Vanilla.</td>\n",
              "      <td>I will add (depending how spicy I want it) a t...</td>\n",
              "      <td>My chihuahua and pomeranian get so excited whe...</td>\n",
              "      <td>While I admit that the oversalted chip is addi...</td>\n",
              "      <td>Made a second thinking it was a fluke.</td>\n",
              "      <td>Very low sodium (15 mg), 6 gr dietary fiber, 7...</td>\n",
              "      <td>Pure egg is a purely brilliant idea...</td>\n",
              "      <td>At my rate, it will be an year before I finsih...</td>\n",
              "      <td>It's just as I remembered it from my childhood...</td>\n",
              "      <td>I am a Mango FREAK so I usually go fo the Mango.</td>\n",
              "      <td>I congratulate the UK for making this brand an...</td>\n",
              "      <td>It's that easy.</td>\n",
              "      <td>I purchased a packet at the grocery store and ...</td>\n",
              "      <td>Needs no refrigeration until it is opened, and...</td>\n",
              "      <td>They are an excellent gift for yourself or som...</td>\n",
              "      <td>Although it's NOT a diet food, I have lost alm...</td>\n",
              "      <td>And, I bought 2 different varieties with no ad...</td>\n",
              "      <td>Manufactured In A Gluten-free Environment.</td>\n",
              "      <td>I enjoyed that it wasn't as sweet but for thos...</td>\n",
              "      <td>I eat this stuff a stick at a time, so I was a...</td>\n",
              "    </tr>\n",
              "    <tr>\n",
              "      <th>5</th>\n",
              "      <td>Mallomars Pure Chocolate Cookies are delicious!</td>\n",
              "      <td>I can't stand the taste of these I ended up ju...</td>\n",
              "      <td>This package of six boxes of forty eight bags ...</td>\n",
              "      <td>Biscuit and DJ obviously love the taste of thi...</td>\n",
              "      <td>Honestly I love cashews however these are a bi...</td>\n",
              "      <td>Only 5mg sodium per serving, chips are crisp.</td>\n",
              "      <td>This Maple Brown Sugar flavor is what I grew u...</td>\n",
              "      <td>Love the Senseo machine and their customer ser...</td>\n",
              "      <td>I had this before and I will keep ordering it ...</td>\n",
              "      <td>My chihuahua and pomeranian get so excited whe...</td>\n",
              "      <td>While I admit that the oversalted chip is addi...</td>\n",
              "      <td>I've bee subscribing to this coffee for months...</td>\n",
              "      <td>We've been buying Alpen for years as the close...</td>\n",
              "      <td>This product has 24g of protein per serving an...</td>\n",
              "      <td>This is my first order and it is MORE that I e...</td>\n",
              "      <td>My Solo Apricot Filling arrived this afternoon...</td>\n",
              "      <td>Since I joined Weight Watchers I have been try...</td>\n",
              "      <td>I wish the \"Walkers\" brand was in America!</td>\n",
              "      <td>I did realize after trying other Velveeta Chee...</td>\n",
              "      <td>I've been eating this stuff here and there for...</td>\n",
              "      <td>I will be buying this again,  it is a great ta...</td>\n",
              "      <td>They are an excellent gift for yourself or som...</td>\n",
              "      <td>Hey Bacon Lovers, The original BACONNAISE is a...</td>\n",
              "      <td>I have tried both the Tofu Shirataki and the N...</td>\n",
              "      <td>This is the kind of garbage \"food\" that gives ...</td>\n",
              "      <td>The Coconut Palm Sugar wasn't too bad as a sub...</td>\n",
              "      <td>In the northeast it's pretty easy to find this...</td>\n",
              "    </tr>\n",
              "  </tbody>\n",
              "</table>\n",
              "</div>"
            ],
            "text/plain": [
              "                                                         0  ...                                                 26\n",
              "Text     Mallomars Pure Chocolate Cookies are delicious...  ...  In the northeast it's pretty easy to find this...\n",
              "Summary                                         Delicious!  ...                               Real Deal Beef Jerky\n",
              "0        Pour yourself an ice cold glass of milk, sit b...  ...  In the northeast it's pretty easy to find this...\n",
              "1        Tasty chocolate on the inside, and an equally ...  ...  In the northeast it's pretty easy to find this...\n",
              "3        Pour yourself an ice cold glass of milk, sit b...  ...  In the northeast it's pretty easy to find this...\n",
              "4        Tasty chocolate on the inside, and an equally ...  ...  I eat this stuff a stick at a time, so I was a...\n",
              "5          Mallomars Pure Chocolate Cookies are delicious!  ...  In the northeast it's pretty easy to find this...\n",
              "\n",
              "[7 rows x 27 columns]"
            ]
          },
          "metadata": {
            "tags": []
          },
          "execution_count": 38
        }
      ]
    },
    {
      "cell_type": "markdown",
      "metadata": {
        "id": "XItvO9SfE-z9",
        "colab_type": "text"
      },
      "source": [
        "The entries are substituted with each summary score:"
      ]
    },
    {
      "cell_type": "code",
      "metadata": {
        "id": "minTMysALrXx",
        "colab_type": "code",
        "colab": {
          "base_uri": "https://localhost:8080/",
          "height": 204
        },
        "outputId": "f682923d-3807-498e-e927-1f7e0772cb00"
      },
      "source": [
        "ev = pd.read_csv(\"/content/score.csv\")\n",
        "ev.head()"
      ],
      "execution_count": 15,
      "outputs": [
        {
          "output_type": "execute_result",
          "data": {
            "text/html": [
              "<div>\n",
              "<style scoped>\n",
              "    .dataframe tbody tr th:only-of-type {\n",
              "        vertical-align: middle;\n",
              "    }\n",
              "\n",
              "    .dataframe tbody tr th {\n",
              "        vertical-align: top;\n",
              "    }\n",
              "\n",
              "    .dataframe thead th {\n",
              "        text-align: right;\n",
              "    }\n",
              "</style>\n",
              "<table border=\"1\" class=\"dataframe\">\n",
              "  <thead>\n",
              "    <tr style=\"text-align: right;\">\n",
              "      <th></th>\n",
              "      <th>LSTM</th>\n",
              "      <th>LSA</th>\n",
              "      <th>TextRank</th>\n",
              "      <th>PyTextRank</th>\n",
              "      <th>Luhn</th>\n",
              "      <th>BERT</th>\n",
              "    </tr>\n",
              "  </thead>\n",
              "  <tbody>\n",
              "    <tr>\n",
              "      <th>0</th>\n",
              "      <td>2</td>\n",
              "      <td>3</td>\n",
              "      <td>1</td>\n",
              "      <td>3</td>\n",
              "      <td>1.0</td>\n",
              "      <td>3</td>\n",
              "    </tr>\n",
              "    <tr>\n",
              "      <th>1</th>\n",
              "      <td>2</td>\n",
              "      <td>1</td>\n",
              "      <td>3</td>\n",
              "      <td>1</td>\n",
              "      <td>3.0</td>\n",
              "      <td>3</td>\n",
              "    </tr>\n",
              "    <tr>\n",
              "      <th>2</th>\n",
              "      <td>3</td>\n",
              "      <td>1</td>\n",
              "      <td>3</td>\n",
              "      <td>1</td>\n",
              "      <td>2.0</td>\n",
              "      <td>1</td>\n",
              "    </tr>\n",
              "    <tr>\n",
              "      <th>3</th>\n",
              "      <td>2</td>\n",
              "      <td>1</td>\n",
              "      <td>2</td>\n",
              "      <td>2</td>\n",
              "      <td>3.0</td>\n",
              "      <td>2</td>\n",
              "    </tr>\n",
              "    <tr>\n",
              "      <th>4</th>\n",
              "      <td>2</td>\n",
              "      <td>3</td>\n",
              "      <td>3</td>\n",
              "      <td>3</td>\n",
              "      <td>1.0</td>\n",
              "      <td>2</td>\n",
              "    </tr>\n",
              "  </tbody>\n",
              "</table>\n",
              "</div>"
            ],
            "text/plain": [
              "   LSTM  LSA  TextRank  PyTextRank  Luhn  BERT\n",
              "0     2    3         1           3   1.0     3\n",
              "1     2    1         3           1   3.0     3\n",
              "2     3    1         3           1   2.0     1\n",
              "3     2    1         2           2   3.0     2\n",
              "4     2    3         3           3   1.0     2"
            ]
          },
          "metadata": {
            "tags": []
          },
          "execution_count": 15
        }
      ]
    },
    {
      "cell_type": "code",
      "metadata": {
        "id": "-2ezutfUOJPS",
        "colab_type": "code",
        "colab": {}
      },
      "source": [
        "from statistics import mean, stdev\n",
        "LTSM_av = mean(LSTM)\n",
        "LTSM_sd = stdev(LSTM)\n",
        "\n",
        "LSA_av = mean(LSA)\n",
        "LSA_sd = stdev(LSA)\n",
        "\n",
        "TextRank_av = mean(TextRank)\n",
        "TextRank_sd = stdev(TextRank)\n",
        "\n",
        "PyTextRank_av = mean(PyTextRank)\n",
        "PyTextRank_sd = stdev(PyTextRank)\n",
        "\n",
        "Luhn_av = mean(Luhn)\n",
        "Luhn_sd = stdev(Luhn)\n",
        "\n",
        "BERT_av = mean(BERT)\n",
        "BERT_sd = stdev(BERT)\n",
        "\n",
        "means = {\"LSTM\":LTSM_av,\"LSA\":LSA_av,\"TR\":TextRank_av,\"PyTR\":PyTextRank_av,\"Luhn\":Luhn_av,\"BERT\":BERT_av}\n",
        "sds = {\"LSTM\":LTSM_sd,\"LSA\":LSA_sd,\"TR\":TextRank_sd,\"PyTR\":PyTextRank_sd,\"Luhn\":Luhn_sd,\"BERT\":BERT_sd}"
      ],
      "execution_count": 0,
      "outputs": []
    },
    {
      "cell_type": "code",
      "metadata": {
        "id": "d6CEXosOTxGI",
        "colab_type": "code",
        "colab": {
          "base_uri": "https://localhost:8080/",
          "height": 235
        },
        "outputId": "a0fa8a33-37aa-415e-8672-2b2016412254"
      },
      "source": [
        "res = pd.concat([pd.DataFrame(means.values(),index=means.keys(),columns=['Average']),pd.DataFrame(sds.values(),index=means.keys(),columns=['SD'])],axis=1).sort_values('Average',ascending=False)\n",
        "res"
      ],
      "execution_count": 70,
      "outputs": [
        {
          "output_type": "execute_result",
          "data": {
            "text/html": [
              "<div>\n",
              "<style scoped>\n",
              "    .dataframe tbody tr th:only-of-type {\n",
              "        vertical-align: middle;\n",
              "    }\n",
              "\n",
              "    .dataframe tbody tr th {\n",
              "        vertical-align: top;\n",
              "    }\n",
              "\n",
              "    .dataframe thead th {\n",
              "        text-align: right;\n",
              "    }\n",
              "</style>\n",
              "<table border=\"1\" class=\"dataframe\">\n",
              "  <thead>\n",
              "    <tr style=\"text-align: right;\">\n",
              "      <th></th>\n",
              "      <th>Average</th>\n",
              "      <th>SD</th>\n",
              "    </tr>\n",
              "  </thead>\n",
              "  <tbody>\n",
              "    <tr>\n",
              "      <th>TR</th>\n",
              "      <td>2.407407</td>\n",
              "      <td>0.747265</td>\n",
              "    </tr>\n",
              "    <tr>\n",
              "      <th>LSA</th>\n",
              "      <td>2.259259</td>\n",
              "      <td>0.902671</td>\n",
              "    </tr>\n",
              "    <tr>\n",
              "      <th>LSTM</th>\n",
              "      <td>2.185185</td>\n",
              "      <td>0.921414</td>\n",
              "    </tr>\n",
              "    <tr>\n",
              "      <th>BERT</th>\n",
              "      <td>2.185185</td>\n",
              "      <td>0.833761</td>\n",
              "    </tr>\n",
              "    <tr>\n",
              "      <th>PyTR</th>\n",
              "      <td>1.925926</td>\n",
              "      <td>0.916764</td>\n",
              "    </tr>\n",
              "    <tr>\n",
              "      <th>Luhn</th>\n",
              "      <td>1.907407</td>\n",
              "      <td>0.855267</td>\n",
              "    </tr>\n",
              "  </tbody>\n",
              "</table>\n",
              "</div>"
            ],
            "text/plain": [
              "       Average        SD\n",
              "TR    2.407407  0.747265\n",
              "LSA   2.259259  0.902671\n",
              "LSTM  2.185185  0.921414\n",
              "BERT  2.185185  0.833761\n",
              "PyTR  1.925926  0.916764\n",
              "Luhn  1.907407  0.855267"
            ]
          },
          "metadata": {
            "tags": []
          },
          "execution_count": 70
        }
      ]
    },
    {
      "cell_type": "code",
      "metadata": {
        "id": "M0PVU1h6aJqX",
        "colab_type": "code",
        "colab": {
          "base_uri": "https://localhost:8080/",
          "height": 297
        },
        "outputId": "44a80196-483d-40f6-b021-13ad15b23c14"
      },
      "source": [
        "# First illustrate basic pyplot interface, using defaults where possible.\n",
        "x = means.keys()\n",
        "y = means.values()\n",
        "fig, ax = plt.subplots()\n",
        "ax.bar(x, y, yerr=sds.values(), align='center', alpha=0.5, ecolor='black', capsize=5)\n",
        "ax.set_ylabel('Average score')\n",
        "ax.yaxis.grid(True)\n",
        "# Save the figure and show\n",
        "plt.tight_layout()\n",
        "plt.savefig('/content/results.png')\n",
        "plt.show()"
      ],
      "execution_count": 100,
      "outputs": [
        {
          "output_type": "display_data",
          "data": {
            "image/png": "[encoded data removed]",
            "text/plain": [
              "<Figure size 432x288 with 1 Axes>"
            ]
          },
          "metadata": {
            "tags": []
          }
        }
      ]
    },
    {
      "cell_type": "markdown",
      "metadata": {
        "id": "92yjohAkl7Kz",
        "colab_type": "text"
      },
      "source": [
        "#**References**\n",
        "- [Text Summarization Methods](https://github.com/icoxfog417/awesome-text-summarization#transfer-learning)\n",
        "- [Text Summarization in Python](https://towardsdatascience.com/text-summarization-in-python-76c0a41f0dc4)\n",
        "- [TextRank Algorithm](https://www.analyticsvidhya.com/blog/2018/11/introduction-text-summarization-textrank-python/)\n",
        "- [Gensim Summarizer](https://radimrehurek.com/gensim/summarization/summariser.html)\n",
        "- [PyTextRank](https://github.com/DerwenAI/pytextrank/blob/master/example.py)\n",
        "- [Luhn's Algorithm in Python](https://github.com/mohammadKhalifa/Luhn-s-summarizer)\n",
        "- [Bert Extractive Summarizer](https://pypi.org/project/bert-extractive-summarizer/)\n",
        "- [Abstractive Summarization with Keras](https://hackernoon.com/text-summarization-using-keras-models-366b002408d9)\n",
        "- [Deep Learning for Text Summarization](https://www.analyticsvidhya.com/blog/2019/06/comprehensive-guide-text-summarization-using-deep-learning-python/)\n",
        "- [Evaluation measures for Text Summarization](https://www.researchgate.net/publication/220106310_Evaluation_Measures_for_Text_Summarization)"
      ]
    }
  ]
}